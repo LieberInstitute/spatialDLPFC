{
 "cells": [
  {
   "cell_type": "code",
   "execution_count": 1,
   "id": "04e5ce21-d061-4a89-a89e-33e67ca13401",
   "metadata": {},
   "outputs": [],
   "source": [
    "###--------------------------------------------LOAD LIBRARIES\n",
    "\n",
    "import scanpy as sc\n",
    "import pandas as pd\n",
    "import networkx as nx\n",
    "import matplotlib.pyplot as plt\n",
    "import seaborn as sns\n",
    "import numpy as np\n",
    "import glob\n",
    "import anndata"
   ]
  },
  {
   "cell_type": "code",
   "execution_count": 2,
   "id": "039eba68-b8d9-4489-a8ef-9819db646276",
   "metadata": {},
   "outputs": [
    {
     "name": "stdout",
     "output_type": "stream",
     "text": [
      "Br6432_Ant_IF\n",
      "AAACAAGTATCTCCCA-1    Br6432_Ant_IF\n",
      "AAACAGAGCGACTCCT-1    Br6432_Ant_IF\n",
      "AAACAGCTTTCAGAAG-1    Br6432_Ant_IF\n",
      "AAACAGTGTTCCTGGG-1    Br6432_Ant_IF\n",
      "AAACATTTCCCGGATT-1    Br6432_Ant_IF\n",
      "                          ...      \n",
      "TTGTTTCACATCCAGG-1    Br6432_Ant_IF\n",
      "TTGTTTCATTAGTCTA-1    Br6432_Ant_IF\n",
      "TTGTTTCCATACAACT-1    Br6432_Ant_IF\n",
      "TTGTTTGTATTACACG-1    Br6432_Ant_IF\n",
      "TTGTTTGTGTAAATTC-1    Br6432_Ant_IF\n",
      "Name: sample_id, Length: 3574, dtype: object\n",
      "Br8667_Post_IF\n"
     ]
    },
    {
     "name": "stderr",
     "output_type": "stream",
     "text": [
      "/camp/lab/gandhis/home/users/grantpm/.conda/envs/panpipes/lib/python3.8/site-packages/anndata/_core/anndata.py:798: UserWarning: \n",
      "AnnData expects .obs.index to contain strings, but got values like:\n",
      "    [0, 1, 2, 3, 4]\n",
      "\n",
      "    Inferred to be: integer\n",
      "\n",
      "  value_idx = self._prep_dim_index(value.index, attr)\n"
     ]
    },
    {
     "name": "stdout",
     "output_type": "stream",
     "text": [
      "AAACAACGAATAGTTC-1    Br8667_Post_IF\n",
      "AAACAAGTATCTCCCA-1    Br8667_Post_IF\n",
      "AAACAATCTACTAGCA-1    Br8667_Post_IF\n",
      "AAACACCAATAACTGC-1    Br8667_Post_IF\n",
      "AAACAGAGCGACTCCT-1    Br8667_Post_IF\n",
      "                           ...      \n",
      "TTGTTGTGTGTCAAGA-1    Br8667_Post_IF\n",
      "TTGTTTCACATCCAGG-1    Br8667_Post_IF\n",
      "TTGTTTCATTAGTCTA-1    Br8667_Post_IF\n",
      "TTGTTTGTATTACACG-1    Br8667_Post_IF\n",
      "TTGTTTGTGTAAATTC-1    Br8667_Post_IF\n",
      "Name: sample_id, Length: 4255, dtype: object\n"
     ]
    },
    {
     "name": "stderr",
     "output_type": "stream",
     "text": [
      "/camp/lab/gandhis/home/users/grantpm/.conda/envs/panpipes/lib/python3.8/site-packages/anndata/_core/anndata.py:798: UserWarning: \n",
      "AnnData expects .obs.index to contain strings, but got values like:\n",
      "    [0, 1, 2, 3, 4]\n",
      "\n",
      "    Inferred to be: integer\n",
      "\n",
      "  value_idx = self._prep_dim_index(value.index, attr)\n",
      "/camp/lab/gandhis/home/users/grantpm/.conda/envs/panpipes/lib/python3.8/site-packages/anndata/_core/anndata.py:1785: FutureWarning: X.dtype being converted to np.float32 from float64. In the next version of anndata (0.9) conversion will not be automatic. Pass dtype explicitly to avoid this warning. Pass `AnnData(X, dtype=X.dtype, ...)` to get the future behavour.\n",
      "  [AnnData(sparse.csr_matrix(a.shape), obs=a.obs) for a in all_adatas],\n"
     ]
    },
    {
     "name": "stdout",
     "output_type": "stream",
     "text": [
      "Index(['source', 'type', 'gene_id', 'gene_version', 'gene_search',\n",
      "       'gene_name-0', 'gene_type-0', 'gene_name-1', 'gene_type-1'],\n",
      "      dtype='object')\n",
      "Index(['source', 'type', 'gene_id', 'gene_version', 'gene_search', 'gene_type',\n",
      "       'gene_name'],\n",
      "      dtype='object')\n",
      "Br2720_Ant_IF\n",
      "AAACAAGTATCTCCCA-1    Br2720_Ant_IF\n",
      "AAACACCAATAACTGC-1    Br2720_Ant_IF\n",
      "AAACAGCTTTCAGAAG-1    Br2720_Ant_IF\n",
      "AAACAGGGTCTATATT-1    Br2720_Ant_IF\n",
      "AAACAGTGTTCCTGGG-1    Br2720_Ant_IF\n",
      "                          ...      \n",
      "TTGTTGTGTGTCAAGA-1    Br2720_Ant_IF\n",
      "TTGTTTCACATCCAGG-1    Br2720_Ant_IF\n",
      "TTGTTTCATTAGTCTA-1    Br2720_Ant_IF\n",
      "TTGTTTCCATACAACT-1    Br2720_Ant_IF\n",
      "TTGTTTGTATTACACG-1    Br2720_Ant_IF\n",
      "Name: sample_id, Length: 2965, dtype: object\n"
     ]
    },
    {
     "name": "stderr",
     "output_type": "stream",
     "text": [
      "/camp/lab/gandhis/home/users/grantpm/.conda/envs/panpipes/lib/python3.8/site-packages/anndata/_core/anndata.py:798: UserWarning: \n",
      "AnnData expects .obs.index to contain strings, but got values like:\n",
      "    [0, 1, 2, 3, 4]\n",
      "\n",
      "    Inferred to be: integer\n",
      "\n",
      "  value_idx = self._prep_dim_index(value.index, attr)\n",
      "/camp/lab/gandhis/home/users/grantpm/.conda/envs/panpipes/lib/python3.8/site-packages/anndata/_core/anndata.py:1785: FutureWarning: X.dtype being converted to np.float32 from float64. In the next version of anndata (0.9) conversion will not be automatic. Pass dtype explicitly to avoid this warning. Pass `AnnData(X, dtype=X.dtype, ...)` to get the future behavour.\n",
      "  [AnnData(sparse.csr_matrix(a.shape), obs=a.obs) for a in all_adatas],\n"
     ]
    },
    {
     "name": "stdout",
     "output_type": "stream",
     "text": [
      "Index(['source', 'type', 'gene_id', 'gene_version', 'gene_search',\n",
      "       'gene_type-0', 'gene_name-0', 'gene_type-1', 'gene_name-1'],\n",
      "      dtype='object')\n",
      "Index(['source', 'type', 'gene_id', 'gene_version', 'gene_search', 'gene_type',\n",
      "       'gene_name'],\n",
      "      dtype='object')\n",
      "Br6522_Ant_IF\n",
      "AAACAACGAATAGTTC-1    Br6522_Ant_IF\n",
      "AAACAATCTACTAGCA-1    Br6522_Ant_IF\n",
      "AAACACCAATAACTGC-1    Br6522_Ant_IF\n",
      "AAACAGAGCGACTCCT-1    Br6522_Ant_IF\n",
      "AAACAGCTTTCAGAAG-1    Br6522_Ant_IF\n",
      "                          ...      \n",
      "TTGTTGTGTGTCAAGA-1    Br6522_Ant_IF\n",
      "TTGTTTCACATCCAGG-1    Br6522_Ant_IF\n",
      "TTGTTTCATTAGTCTA-1    Br6522_Ant_IF\n",
      "TTGTTTCCATACAACT-1    Br6522_Ant_IF\n",
      "TTGTTTGTGTAAATTC-1    Br6522_Ant_IF\n",
      "Name: sample_id, Length: 4319, dtype: object\n"
     ]
    },
    {
     "name": "stderr",
     "output_type": "stream",
     "text": [
      "/camp/lab/gandhis/home/users/grantpm/.conda/envs/panpipes/lib/python3.8/site-packages/anndata/_core/anndata.py:798: UserWarning: \n",
      "AnnData expects .obs.index to contain strings, but got values like:\n",
      "    [0, 1, 2, 3, 4]\n",
      "\n",
      "    Inferred to be: integer\n",
      "\n",
      "  value_idx = self._prep_dim_index(value.index, attr)\n",
      "/camp/lab/gandhis/home/users/grantpm/.conda/envs/panpipes/lib/python3.8/site-packages/anndata/_core/anndata.py:1785: FutureWarning: X.dtype being converted to np.float32 from float64. In the next version of anndata (0.9) conversion will not be automatic. Pass dtype explicitly to avoid this warning. Pass `AnnData(X, dtype=X.dtype, ...)` to get the future behavour.\n",
      "  [AnnData(sparse.csr_matrix(a.shape), obs=a.obs) for a in all_adatas],\n"
     ]
    },
    {
     "name": "stdout",
     "output_type": "stream",
     "text": [
      "Index(['source', 'type', 'gene_id', 'gene_version', 'gene_search',\n",
      "       'gene_type-0', 'gene_name-0', 'gene_type-1', 'gene_name-1'],\n",
      "      dtype='object')\n",
      "Index(['source', 'type', 'gene_id', 'gene_version', 'gene_search', 'gene_type',\n",
      "       'gene_name'],\n",
      "      dtype='object')\n"
     ]
    }
   ],
   "source": [
    "###--------------------------------------------COMBINE IMMUNOFLUORESCENCE DATA TO C2L RESULTS\n",
    "\n",
    "count = 0\n",
    "for sample in glob.glob('../../../../DLPFC_Visium_LIBD/processed-data/01-tangram/IF/layer/*/ad_sp_orig.h5ad'):\n",
    "    print(sample.split('/')[7])\n",
    "    df = pd.read_csv('../../../../DLPFC_Visium_LIBD/processed-data/spot_deconvo/03-cell2location/03-cell2location/IF/layer/'+sample.split('/')[7]+'/clusters.csv')\n",
    "    adata = sc.read(sample)\n",
    "    adata.obs['key'] = adata.obs.index+'_'+adata.obs['sample_id'].astype(str)\n",
    "    print(adata.obs['sample_id'].astype(str))\n",
    "    adata.obs['key'].astype('category')\n",
    "    \n",
    "    adata.obs.reset_index(inplace = True)\n",
    "    adata.var.drop(columns = ['n_cells'], inplace = True)\n",
    "    adata.obs = adata.obs.merge(df, left_on = 'key', right_on = 'key', how = 'left')\n",
    "    adata.obs.set_index('key', inplace = True)\n",
    "    adata.obs\n",
    "\n",
    "    if (count == 0):\n",
    "        combined = adata\n",
    "    else:\n",
    "        combined = combined.concatenate(adata)\n",
    "        print(combined.var.columns)\n",
    "        if (combined.var['gene_type-1'].astype(str).equals(combined.var['gene_type-0'].astype(str))==True):\n",
    "            combined.var['gene_type'] = combined.var['gene_type-1']\n",
    "            combined.var.drop(columns = ['gene_type-1', 'gene_type-0'], inplace = True)\n",
    "        if (combined.var['gene_name-1'].astype(str).equals(combined.var['gene_name-0'].astype(str))==True):\n",
    "            combined.var['gene_name'] = combined.var['gene_name-1']\n",
    "            combined.var.drop(columns = ['gene_name-1', 'gene_name-0'], inplace = True)\n",
    "        print(combined.var.columns)\n",
    "    count+=1\n",
    "    \n",
    "combined.write('../../../processed-data/gene-risk-LR-analysis/03-colocalisation_analysis/IF_c2l_anndata_combined.h5ad')\n",
    "\n",
    "adata = sc.read_h5ad('../../../processed-data/gene-risk-LR-analysis/03-colocalisation_analysis/IF_c2l_anndata_combined.h5ad')\n",
    "adata.obs['index'] = adata.obs['index'].astype(str)+'_'+adata.obs['sample_id'].astype(str)\n",
    "adata.obs[['index', 'Astro', 'EndoMural', 'Excit_L2_3', 'Excit_L3', 'Excit_L3_4_5', 'Excit_L4', 'Excit_L5', 'Excit_L5_6', 'Excit_L6', 'Inhib', 'Micro', 'OPC', 'Oligo']].to_csv('../../../processed-data/gene-risk-LR-analysis/03-colocalisation_analysis/IF_c2l_annotation.csv', index = False)"
   ]
  },
  {
   "cell_type": "code",
   "execution_count": 3,
   "id": "16ea90a0-c358-4d58-93c5-dbf4b11cadc6",
   "metadata": {},
   "outputs": [
    {
     "name": "stdout",
     "output_type": "stream",
     "text": [
      "../../../../01-tangram/nonIF/layer/Br6471_post/ad_sp_orig.h5ad\n",
      "AAACAACGAATAGTTC-1    Br6471_post\n",
      "AAACAAGTATCTCCCA-1    Br6471_post\n",
      "AAACAATCTACTAGCA-1    Br6471_post\n",
      "AAACAGAGCGACTCCT-1    Br6471_post\n",
      "AAACAGCTTTCAGAAG-1    Br6471_post\n",
      "                         ...     \n",
      "TTGTTGTGTGTCAAGA-1    Br6471_post\n",
      "TTGTTTCACATCCAGG-1    Br6471_post\n",
      "TTGTTTCCATACAACT-1    Br6471_post\n",
      "TTGTTTGTATTACACG-1    Br6471_post\n",
      "TTGTTTGTGTAAATTC-1    Br6471_post\n",
      "Name: sample_id, Length: 4385, dtype: object\n",
      "../../../../01-tangram/nonIF/layer/Br8667_mid/ad_sp_orig.h5ad\n"
     ]
    },
    {
     "name": "stderr",
     "output_type": "stream",
     "text": [
      "/camp/lab/gandhis/home/users/grantpm/.conda/envs/panpipes/lib/python3.8/site-packages/anndata/_core/anndata.py:798: UserWarning: \n",
      "AnnData expects .obs.index to contain strings, but got values like:\n",
      "    [0, 1, 2, 3, 4]\n",
      "\n",
      "    Inferred to be: integer\n",
      "\n",
      "  value_idx = self._prep_dim_index(value.index, attr)\n"
     ]
    },
    {
     "name": "stdout",
     "output_type": "stream",
     "text": [
      "AAACAACGAATAGTTC-1    Br8667_mid\n",
      "AAACAAGTATCTCCCA-1    Br8667_mid\n",
      "AAACAATCTACTAGCA-1    Br8667_mid\n",
      "AAACACCAATAACTGC-1    Br8667_mid\n",
      "AAACAGAGCGACTCCT-1    Br8667_mid\n",
      "                         ...    \n",
      "TTGTTTCACATCCAGG-1    Br8667_mid\n",
      "TTGTTTCATTAGTCTA-1    Br8667_mid\n",
      "TTGTTTCCATACAACT-1    Br8667_mid\n",
      "TTGTTTGTATTACACG-1    Br8667_mid\n",
      "TTGTTTGTGTAAATTC-1    Br8667_mid\n",
      "Name: sample_id, Length: 3939, dtype: object\n"
     ]
    },
    {
     "name": "stderr",
     "output_type": "stream",
     "text": [
      "/camp/lab/gandhis/home/users/grantpm/.conda/envs/panpipes/lib/python3.8/site-packages/anndata/_core/anndata.py:798: UserWarning: \n",
      "AnnData expects .obs.index to contain strings, but got values like:\n",
      "    [0, 1, 2, 3, 4]\n",
      "\n",
      "    Inferred to be: integer\n",
      "\n",
      "  value_idx = self._prep_dim_index(value.index, attr)\n",
      "/camp/lab/gandhis/home/users/grantpm/.conda/envs/panpipes/lib/python3.8/site-packages/anndata/_core/anndata.py:1785: FutureWarning: X.dtype being converted to np.float32 from float64. In the next version of anndata (0.9) conversion will not be automatic. Pass dtype explicitly to avoid this warning. Pass `AnnData(X, dtype=X.dtype, ...)` to get the future behavour.\n",
      "  [AnnData(sparse.csr_matrix(a.shape), obs=a.obs) for a in all_adatas],\n"
     ]
    },
    {
     "name": "stdout",
     "output_type": "stream",
     "text": [
      "Index(['source', 'type', 'gene_id', 'gene_version', 'gene_search',\n",
      "       'gene_name-0', 'gene_type-0', 'gene_name-1', 'gene_type-1'],\n",
      "      dtype='object')\n",
      "Index(['source', 'type', 'gene_id', 'gene_version', 'gene_search', 'gene_type',\n",
      "       'gene_name'],\n",
      "      dtype='object')\n",
      "../../../../01-tangram/nonIF/layer/Br3942_post/ad_sp_orig.h5ad\n",
      "AAACAAGTATCTCCCA-1    Br3942_post\n",
      "AAACACCAATAACTGC-1    Br3942_post\n",
      "AAACAGAGCGACTCCT-1    Br3942_post\n",
      "AAACAGCTTTCAGAAG-1    Br3942_post\n",
      "AAACAGGGTCTATATT-1    Br3942_post\n",
      "                         ...     \n",
      "TTGTTGGCAATGACTG-1    Br3942_post\n",
      "TTGTTTCACATCCAGG-1    Br3942_post\n",
      "TTGTTTCATTAGTCTA-1    Br3942_post\n",
      "TTGTTTCCATACAACT-1    Br3942_post\n",
      "TTGTTTGTATTACACG-1    Br3942_post\n",
      "Name: sample_id, Length: 4157, dtype: object\n"
     ]
    },
    {
     "name": "stderr",
     "output_type": "stream",
     "text": [
      "/camp/lab/gandhis/home/users/grantpm/.conda/envs/panpipes/lib/python3.8/site-packages/anndata/_core/anndata.py:798: UserWarning: \n",
      "AnnData expects .obs.index to contain strings, but got values like:\n",
      "    [0, 1, 2, 3, 4]\n",
      "\n",
      "    Inferred to be: integer\n",
      "\n",
      "  value_idx = self._prep_dim_index(value.index, attr)\n",
      "/camp/lab/gandhis/home/users/grantpm/.conda/envs/panpipes/lib/python3.8/site-packages/anndata/_core/anndata.py:1785: FutureWarning: X.dtype being converted to np.float32 from float64. In the next version of anndata (0.9) conversion will not be automatic. Pass dtype explicitly to avoid this warning. Pass `AnnData(X, dtype=X.dtype, ...)` to get the future behavour.\n",
      "  [AnnData(sparse.csr_matrix(a.shape), obs=a.obs) for a in all_adatas],\n"
     ]
    },
    {
     "name": "stdout",
     "output_type": "stream",
     "text": [
      "Index(['source', 'type', 'gene_id', 'gene_version', 'gene_search',\n",
      "       'gene_type-0', 'gene_name-0', 'gene_type-1', 'gene_name-1'],\n",
      "      dtype='object')\n",
      "Index(['source', 'type', 'gene_id', 'gene_version', 'gene_search', 'gene_type',\n",
      "       'gene_name'],\n",
      "      dtype='object')\n",
      "../../../../01-tangram/nonIF/layer/Br8325_ant/ad_sp_orig.h5ad\n",
      "AAACAACGAATAGTTC-1    Br8325_ant\n",
      "AAACAAGTATCTCCCA-1    Br8325_ant\n",
      "AAACAATCTACTAGCA-1    Br8325_ant\n",
      "AAACAGAGCGACTCCT-1    Br8325_ant\n",
      "AAACAGCTTTCAGAAG-1    Br8325_ant\n",
      "                         ...    \n",
      "TTGTTTCACATCCAGG-1    Br8325_ant\n",
      "TTGTTTCATTAGTCTA-1    Br8325_ant\n",
      "TTGTTTCCATACAACT-1    Br8325_ant\n",
      "TTGTTTGTATTACACG-1    Br8325_ant\n",
      "TTGTTTGTGTAAATTC-1    Br8325_ant\n",
      "Name: sample_id, Length: 3442, dtype: object\n"
     ]
    },
    {
     "name": "stderr",
     "output_type": "stream",
     "text": [
      "/camp/lab/gandhis/home/users/grantpm/.conda/envs/panpipes/lib/python3.8/site-packages/anndata/_core/anndata.py:798: UserWarning: \n",
      "AnnData expects .obs.index to contain strings, but got values like:\n",
      "    [0, 1, 2, 3, 4]\n",
      "\n",
      "    Inferred to be: integer\n",
      "\n",
      "  value_idx = self._prep_dim_index(value.index, attr)\n",
      "/camp/lab/gandhis/home/users/grantpm/.conda/envs/panpipes/lib/python3.8/site-packages/anndata/_core/anndata.py:1785: FutureWarning: X.dtype being converted to np.float32 from float64. In the next version of anndata (0.9) conversion will not be automatic. Pass dtype explicitly to avoid this warning. Pass `AnnData(X, dtype=X.dtype, ...)` to get the future behavour.\n",
      "  [AnnData(sparse.csr_matrix(a.shape), obs=a.obs) for a in all_adatas],\n"
     ]
    },
    {
     "name": "stdout",
     "output_type": "stream",
     "text": [
      "Index(['source', 'type', 'gene_id', 'gene_version', 'gene_search',\n",
      "       'gene_type-0', 'gene_name-0', 'gene_type-1', 'gene_name-1'],\n",
      "      dtype='object')\n",
      "Index(['source', 'type', 'gene_id', 'gene_version', 'gene_search', 'gene_type',\n",
      "       'gene_name'],\n",
      "      dtype='object')\n",
      "../../../../01-tangram/nonIF/layer/Br8667_ant/ad_sp_orig.h5ad\n",
      "AAACAAGTATCTCCCA-1    Br8667_ant\n",
      "AAACACCAATAACTGC-1    Br8667_ant\n",
      "AAACAGAGCGACTCCT-1    Br8667_ant\n",
      "AAACAGGGTCTATATT-1    Br8667_ant\n",
      "AAACAGTGTTCCTGGG-1    Br8667_ant\n",
      "                         ...    \n",
      "TTGTTGTGTGTCAAGA-1    Br8667_ant\n",
      "TTGTTTCACATCCAGG-1    Br8667_ant\n",
      "TTGTTTCATTAGTCTA-1    Br8667_ant\n",
      "TTGTTTCCATACAACT-1    Br8667_ant\n",
      "TTGTTTGTATTACACG-1    Br8667_ant\n",
      "Name: sample_id, Length: 3621, dtype: object\n"
     ]
    },
    {
     "name": "stderr",
     "output_type": "stream",
     "text": [
      "/camp/lab/gandhis/home/users/grantpm/.conda/envs/panpipes/lib/python3.8/site-packages/anndata/_core/anndata.py:798: UserWarning: \n",
      "AnnData expects .obs.index to contain strings, but got values like:\n",
      "    [0, 1, 2, 3, 4]\n",
      "\n",
      "    Inferred to be: integer\n",
      "\n",
      "  value_idx = self._prep_dim_index(value.index, attr)\n",
      "/camp/lab/gandhis/home/users/grantpm/.conda/envs/panpipes/lib/python3.8/site-packages/anndata/_core/anndata.py:1785: FutureWarning: X.dtype being converted to np.float32 from float64. In the next version of anndata (0.9) conversion will not be automatic. Pass dtype explicitly to avoid this warning. Pass `AnnData(X, dtype=X.dtype, ...)` to get the future behavour.\n",
      "  [AnnData(sparse.csr_matrix(a.shape), obs=a.obs) for a in all_adatas],\n"
     ]
    },
    {
     "name": "stdout",
     "output_type": "stream",
     "text": [
      "Index(['source', 'type', 'gene_id', 'gene_version', 'gene_search',\n",
      "       'gene_type-0', 'gene_name-0', 'gene_type-1', 'gene_name-1'],\n",
      "      dtype='object')\n",
      "Index(['source', 'type', 'gene_id', 'gene_version', 'gene_search', 'gene_type',\n",
      "       'gene_name'],\n",
      "      dtype='object')\n",
      "../../../../01-tangram/nonIF/layer/Br6471_mid/ad_sp_orig.h5ad\n",
      "AAACAAGTATCTCCCA-1    Br6471_mid\n",
      "AAACAATCTACTAGCA-1    Br6471_mid\n",
      "AAACACCAATAACTGC-1    Br6471_mid\n",
      "AAACAGAGCGACTCCT-1    Br6471_mid\n",
      "AAACAGCTTTCAGAAG-1    Br6471_mid\n",
      "                         ...    \n",
      "TTGTTGTGTGTCAAGA-1    Br6471_mid\n",
      "TTGTTTCACATCCAGG-1    Br6471_mid\n",
      "TTGTTTCATTAGTCTA-1    Br6471_mid\n",
      "TTGTTTCCATACAACT-1    Br6471_mid\n",
      "TTGTTTGTGTAAATTC-1    Br6471_mid\n",
      "Name: sample_id, Length: 4476, dtype: object\n"
     ]
    },
    {
     "name": "stderr",
     "output_type": "stream",
     "text": [
      "/camp/lab/gandhis/home/users/grantpm/.conda/envs/panpipes/lib/python3.8/site-packages/anndata/_core/anndata.py:798: UserWarning: \n",
      "AnnData expects .obs.index to contain strings, but got values like:\n",
      "    [0, 1, 2, 3, 4]\n",
      "\n",
      "    Inferred to be: integer\n",
      "\n",
      "  value_idx = self._prep_dim_index(value.index, attr)\n",
      "/camp/lab/gandhis/home/users/grantpm/.conda/envs/panpipes/lib/python3.8/site-packages/anndata/_core/anndata.py:1785: FutureWarning: X.dtype being converted to np.float32 from float64. In the next version of anndata (0.9) conversion will not be automatic. Pass dtype explicitly to avoid this warning. Pass `AnnData(X, dtype=X.dtype, ...)` to get the future behavour.\n",
      "  [AnnData(sparse.csr_matrix(a.shape), obs=a.obs) for a in all_adatas],\n"
     ]
    },
    {
     "name": "stdout",
     "output_type": "stream",
     "text": [
      "Index(['source', 'type', 'gene_id', 'gene_version', 'gene_search',\n",
      "       'gene_type-0', 'gene_name-0', 'gene_type-1', 'gene_name-1'],\n",
      "      dtype='object')\n",
      "Index(['source', 'type', 'gene_id', 'gene_version', 'gene_search', 'gene_type',\n",
      "       'gene_name'],\n",
      "      dtype='object')\n",
      "../../../../01-tangram/nonIF/layer/Br6522_mid/ad_sp_orig.h5ad\n",
      "AAACAAGTATCTCCCA-1    Br6522_mid\n",
      "AAACAATCTACTAGCA-1    Br6522_mid\n",
      "AAACACCAATAACTGC-1    Br6522_mid\n",
      "AAACAGAGCGACTCCT-1    Br6522_mid\n",
      "AAACAGTGTTCCTGGG-1    Br6522_mid\n",
      "                         ...    \n",
      "TTGTTTCACATCCAGG-1    Br6522_mid\n",
      "TTGTTTCATTAGTCTA-1    Br6522_mid\n",
      "TTGTTTCCATACAACT-1    Br6522_mid\n",
      "TTGTTTGTATTACACG-1    Br6522_mid\n",
      "TTGTTTGTGTAAATTC-1    Br6522_mid\n",
      "Name: sample_id, Length: 3724, dtype: object\n"
     ]
    },
    {
     "name": "stderr",
     "output_type": "stream",
     "text": [
      "/camp/lab/gandhis/home/users/grantpm/.conda/envs/panpipes/lib/python3.8/site-packages/anndata/_core/anndata.py:798: UserWarning: \n",
      "AnnData expects .obs.index to contain strings, but got values like:\n",
      "    [0, 1, 2, 3, 4]\n",
      "\n",
      "    Inferred to be: integer\n",
      "\n",
      "  value_idx = self._prep_dim_index(value.index, attr)\n",
      "/camp/lab/gandhis/home/users/grantpm/.conda/envs/panpipes/lib/python3.8/site-packages/anndata/_core/anndata.py:1785: FutureWarning: X.dtype being converted to np.float32 from float64. In the next version of anndata (0.9) conversion will not be automatic. Pass dtype explicitly to avoid this warning. Pass `AnnData(X, dtype=X.dtype, ...)` to get the future behavour.\n",
      "  [AnnData(sparse.csr_matrix(a.shape), obs=a.obs) for a in all_adatas],\n"
     ]
    },
    {
     "name": "stdout",
     "output_type": "stream",
     "text": [
      "Index(['source', 'type', 'gene_id', 'gene_version', 'gene_search',\n",
      "       'gene_type-0', 'gene_name-0', 'gene_type-1', 'gene_name-1'],\n",
      "      dtype='object')\n",
      "Index(['source', 'type', 'gene_id', 'gene_version', 'gene_search', 'gene_type',\n",
      "       'gene_name'],\n",
      "      dtype='object')\n",
      "../../../../01-tangram/nonIF/layer/Br2720_ant/ad_sp_orig.h5ad\n",
      "AAACAAGTATCTCCCA-1    Br2720_ant\n",
      "AAACACCAATAACTGC-1    Br2720_ant\n",
      "AAACAGAGCGACTCCT-1    Br2720_ant\n",
      "AAACATTTCCCGGATT-1    Br2720_ant\n",
      "AAACCCGAACGAAATC-1    Br2720_ant\n",
      "                         ...    \n",
      "TTGTTCAGTGTGCTAC-1    Br2720_ant\n",
      "TTGTTGTGTGTCAAGA-1    Br2720_ant\n",
      "TTGTTTCACATCCAGG-1    Br2720_ant\n",
      "TTGTTTCATTAGTCTA-1    Br2720_ant\n",
      "TTGTTTCCATACAACT-1    Br2720_ant\n",
      "Name: sample_id, Length: 3046, dtype: object\n"
     ]
    },
    {
     "name": "stderr",
     "output_type": "stream",
     "text": [
      "/camp/lab/gandhis/home/users/grantpm/.conda/envs/panpipes/lib/python3.8/site-packages/anndata/_core/anndata.py:798: UserWarning: \n",
      "AnnData expects .obs.index to contain strings, but got values like:\n",
      "    [0, 1, 2, 3, 4]\n",
      "\n",
      "    Inferred to be: integer\n",
      "\n",
      "  value_idx = self._prep_dim_index(value.index, attr)\n",
      "/camp/lab/gandhis/home/users/grantpm/.conda/envs/panpipes/lib/python3.8/site-packages/anndata/_core/anndata.py:1785: FutureWarning: X.dtype being converted to np.float32 from float64. In the next version of anndata (0.9) conversion will not be automatic. Pass dtype explicitly to avoid this warning. Pass `AnnData(X, dtype=X.dtype, ...)` to get the future behavour.\n",
      "  [AnnData(sparse.csr_matrix(a.shape), obs=a.obs) for a in all_adatas],\n"
     ]
    },
    {
     "name": "stdout",
     "output_type": "stream",
     "text": [
      "Index(['source', 'type', 'gene_id', 'gene_version', 'gene_search',\n",
      "       'gene_type-0', 'gene_name-0', 'gene_type-1', 'gene_name-1'],\n",
      "      dtype='object')\n",
      "Index(['source', 'type', 'gene_id', 'gene_version', 'gene_search', 'gene_type',\n",
      "       'gene_name'],\n",
      "      dtype='object')\n",
      "../../../../01-tangram/nonIF/layer/Br3942_mid/ad_sp_orig.h5ad\n",
      "AAACAAGTATCTCCCA-1    Br3942_mid\n",
      "AAACACCAATAACTGC-1    Br3942_mid\n",
      "AAACAGCTTTCAGAAG-1    Br3942_mid\n",
      "AAACAGGGTCTATATT-1    Br3942_mid\n",
      "AAACAGTGTTCCTGGG-1    Br3942_mid\n",
      "                         ...    \n",
      "TTGTTGTGTGTCAAGA-1    Br3942_mid\n",
      "TTGTTTCACATCCAGG-1    Br3942_mid\n",
      "TTGTTTCATTAGTCTA-1    Br3942_mid\n",
      "TTGTTTCCATACAACT-1    Br3942_mid\n",
      "TTGTTTGTATTACACG-1    Br3942_mid\n",
      "Name: sample_id, Length: 3371, dtype: object\n"
     ]
    },
    {
     "name": "stderr",
     "output_type": "stream",
     "text": [
      "/camp/lab/gandhis/home/users/grantpm/.conda/envs/panpipes/lib/python3.8/site-packages/anndata/_core/anndata.py:798: UserWarning: \n",
      "AnnData expects .obs.index to contain strings, but got values like:\n",
      "    [0, 1, 2, 3, 4]\n",
      "\n",
      "    Inferred to be: integer\n",
      "\n",
      "  value_idx = self._prep_dim_index(value.index, attr)\n",
      "/camp/lab/gandhis/home/users/grantpm/.conda/envs/panpipes/lib/python3.8/site-packages/anndata/_core/anndata.py:1785: FutureWarning: X.dtype being converted to np.float32 from float64. In the next version of anndata (0.9) conversion will not be automatic. Pass dtype explicitly to avoid this warning. Pass `AnnData(X, dtype=X.dtype, ...)` to get the future behavour.\n",
      "  [AnnData(sparse.csr_matrix(a.shape), obs=a.obs) for a in all_adatas],\n"
     ]
    },
    {
     "name": "stdout",
     "output_type": "stream",
     "text": [
      "Index(['source', 'type', 'gene_id', 'gene_version', 'gene_search',\n",
      "       'gene_type-0', 'gene_name-0', 'gene_type-1', 'gene_name-1'],\n",
      "      dtype='object')\n",
      "Index(['source', 'type', 'gene_id', 'gene_version', 'gene_search', 'gene_type',\n",
      "       'gene_name'],\n",
      "      dtype='object')\n",
      "../../../../01-tangram/nonIF/layer/Br6522_ant/ad_sp_orig.h5ad\n",
      "AAACAAGTATCTCCCA-1    Br6522_ant\n",
      "AAACACCAATAACTGC-1    Br6522_ant\n",
      "AAACAGAGCGACTCCT-1    Br6522_ant\n",
      "AAACAGCTTTCAGAAG-1    Br6522_ant\n",
      "AAACAGGGTCTATATT-1    Br6522_ant\n",
      "                         ...    \n",
      "TTGTTGTGTGTCAAGA-1    Br6522_ant\n",
      "TTGTTTCACATCCAGG-1    Br6522_ant\n",
      "TTGTTTCATTAGTCTA-1    Br6522_ant\n",
      "TTGTTTCCATACAACT-1    Br6522_ant\n",
      "TTGTTTGTATTACACG-1    Br6522_ant\n",
      "Name: sample_id, Length: 4263, dtype: object\n"
     ]
    },
    {
     "name": "stderr",
     "output_type": "stream",
     "text": [
      "/camp/lab/gandhis/home/users/grantpm/.conda/envs/panpipes/lib/python3.8/site-packages/anndata/_core/anndata.py:798: UserWarning: \n",
      "AnnData expects .obs.index to contain strings, but got values like:\n",
      "    [0, 1, 2, 3, 4]\n",
      "\n",
      "    Inferred to be: integer\n",
      "\n",
      "  value_idx = self._prep_dim_index(value.index, attr)\n",
      "/camp/lab/gandhis/home/users/grantpm/.conda/envs/panpipes/lib/python3.8/site-packages/anndata/_core/anndata.py:1785: FutureWarning: X.dtype being converted to np.float32 from float64. In the next version of anndata (0.9) conversion will not be automatic. Pass dtype explicitly to avoid this warning. Pass `AnnData(X, dtype=X.dtype, ...)` to get the future behavour.\n",
      "  [AnnData(sparse.csr_matrix(a.shape), obs=a.obs) for a in all_adatas],\n"
     ]
    },
    {
     "name": "stdout",
     "output_type": "stream",
     "text": [
      "Index(['source', 'type', 'gene_id', 'gene_version', 'gene_search',\n",
      "       'gene_type-0', 'gene_name-0', 'gene_type-1', 'gene_name-1'],\n",
      "      dtype='object')\n",
      "Index(['source', 'type', 'gene_id', 'gene_version', 'gene_search', 'gene_type',\n",
      "       'gene_name'],\n",
      "      dtype='object')\n",
      "../../../../01-tangram/nonIF/layer/Br6432_post/ad_sp_orig.h5ad\n",
      "AAACAACGAATAGTTC-1    Br6432_post\n",
      "AAACAATCTACTAGCA-1    Br6432_post\n",
      "AAACAGAGCGACTCCT-1    Br6432_post\n",
      "AAACATTTCCCGGATT-1    Br6432_post\n",
      "AAACCACTACACAGAT-1    Br6432_post\n",
      "                         ...     \n",
      "TTGTGTTTCCCGAAAG-1    Br6432_post\n",
      "TTGTTAGCAAATTCGA-1    Br6432_post\n",
      "TTGTTCAGTGTGCTAC-1    Br6432_post\n",
      "TTGTTGTGTGTCAAGA-1    Br6432_post\n",
      "TTGTTTGTGTAAATTC-1    Br6432_post\n",
      "Name: sample_id, Length: 2614, dtype: object\n"
     ]
    },
    {
     "name": "stderr",
     "output_type": "stream",
     "text": [
      "/camp/lab/gandhis/home/users/grantpm/.conda/envs/panpipes/lib/python3.8/site-packages/anndata/_core/anndata.py:798: UserWarning: \n",
      "AnnData expects .obs.index to contain strings, but got values like:\n",
      "    [0, 1, 2, 3, 4]\n",
      "\n",
      "    Inferred to be: integer\n",
      "\n",
      "  value_idx = self._prep_dim_index(value.index, attr)\n",
      "/camp/lab/gandhis/home/users/grantpm/.conda/envs/panpipes/lib/python3.8/site-packages/anndata/_core/anndata.py:1785: FutureWarning: X.dtype being converted to np.float32 from float64. In the next version of anndata (0.9) conversion will not be automatic. Pass dtype explicitly to avoid this warning. Pass `AnnData(X, dtype=X.dtype, ...)` to get the future behavour.\n",
      "  [AnnData(sparse.csr_matrix(a.shape), obs=a.obs) for a in all_adatas],\n"
     ]
    },
    {
     "name": "stdout",
     "output_type": "stream",
     "text": [
      "Index(['source', 'type', 'gene_id', 'gene_version', 'gene_search',\n",
      "       'gene_type-0', 'gene_name-0', 'gene_type-1', 'gene_name-1'],\n",
      "      dtype='object')\n",
      "Index(['source', 'type', 'gene_id', 'gene_version', 'gene_search', 'gene_type',\n",
      "       'gene_name'],\n",
      "      dtype='object')\n",
      "../../../../01-tangram/nonIF/layer/Br8492_mid/ad_sp_orig.h5ad\n",
      "AAACAAGTATCTCCCA-1    Br8492_mid\n",
      "AAACACCAATAACTGC-1    Br8492_mid\n",
      "AAACAGAGCGACTCCT-1    Br8492_mid\n",
      "AAACAGCTTTCAGAAG-1    Br8492_mid\n",
      "AAACAGGGTCTATATT-1    Br8492_mid\n",
      "                         ...    \n",
      "TTGTTTCACATCCAGG-1    Br8492_mid\n",
      "TTGTTTCATTAGTCTA-1    Br8492_mid\n",
      "TTGTTTCCATACAACT-1    Br8492_mid\n",
      "TTGTTTGTATTACACG-1    Br8492_mid\n",
      "TTGTTTGTGTAAATTC-1    Br8492_mid\n",
      "Name: sample_id, Length: 3869, dtype: object\n"
     ]
    },
    {
     "name": "stderr",
     "output_type": "stream",
     "text": [
      "/camp/lab/gandhis/home/users/grantpm/.conda/envs/panpipes/lib/python3.8/site-packages/anndata/_core/anndata.py:798: UserWarning: \n",
      "AnnData expects .obs.index to contain strings, but got values like:\n",
      "    [0, 1, 2, 3, 4]\n",
      "\n",
      "    Inferred to be: integer\n",
      "\n",
      "  value_idx = self._prep_dim_index(value.index, attr)\n",
      "/camp/lab/gandhis/home/users/grantpm/.conda/envs/panpipes/lib/python3.8/site-packages/anndata/_core/anndata.py:1785: FutureWarning: X.dtype being converted to np.float32 from float64. In the next version of anndata (0.9) conversion will not be automatic. Pass dtype explicitly to avoid this warning. Pass `AnnData(X, dtype=X.dtype, ...)` to get the future behavour.\n",
      "  [AnnData(sparse.csr_matrix(a.shape), obs=a.obs) for a in all_adatas],\n"
     ]
    },
    {
     "name": "stdout",
     "output_type": "stream",
     "text": [
      "Index(['source', 'type', 'gene_id', 'gene_version', 'gene_type', 'gene_search',\n",
      "       'gene_name-0', 'gene_name-1'],\n",
      "      dtype='object')\n",
      "Index(['source', 'type', 'gene_id', 'gene_version', 'gene_type', 'gene_search',\n",
      "       'gene_name'],\n",
      "      dtype='object')\n",
      "../../../../01-tangram/nonIF/layer/Br2743_mid/ad_sp_orig.h5ad\n",
      "AAACAAGTATCTCCCA-1    Br2743_mid\n",
      "AAACAATCTACTAGCA-1    Br2743_mid\n",
      "AAACACCAATAACTGC-1    Br2743_mid\n",
      "AAACAGAGCGACTCCT-1    Br2743_mid\n",
      "AAACAGCTTTCAGAAG-1    Br2743_mid\n",
      "                         ...    \n",
      "TTGTTGTGTGTCAAGA-1    Br2743_mid\n",
      "TTGTTTCACATCCAGG-1    Br2743_mid\n",
      "TTGTTTCATTAGTCTA-1    Br2743_mid\n",
      "TTGTTTCCATACAACT-1    Br2743_mid\n",
      "TTGTTTGTGTAAATTC-1    Br2743_mid\n",
      "Name: sample_id, Length: 4072, dtype: object\n"
     ]
    },
    {
     "name": "stderr",
     "output_type": "stream",
     "text": [
      "/camp/lab/gandhis/home/users/grantpm/.conda/envs/panpipes/lib/python3.8/site-packages/anndata/_core/anndata.py:798: UserWarning: \n",
      "AnnData expects .obs.index to contain strings, but got values like:\n",
      "    [0, 1, 2, 3, 4]\n",
      "\n",
      "    Inferred to be: integer\n",
      "\n",
      "  value_idx = self._prep_dim_index(value.index, attr)\n",
      "/camp/lab/gandhis/home/users/grantpm/.conda/envs/panpipes/lib/python3.8/site-packages/anndata/_core/anndata.py:1785: FutureWarning: X.dtype being converted to np.float32 from float64. In the next version of anndata (0.9) conversion will not be automatic. Pass dtype explicitly to avoid this warning. Pass `AnnData(X, dtype=X.dtype, ...)` to get the future behavour.\n",
      "  [AnnData(sparse.csr_matrix(a.shape), obs=a.obs) for a in all_adatas],\n"
     ]
    },
    {
     "name": "stdout",
     "output_type": "stream",
     "text": [
      "Index(['source', 'type', 'gene_id', 'gene_version', 'gene_search',\n",
      "       'gene_type-0', 'gene_name-0', 'gene_type-1', 'gene_name-1'],\n",
      "      dtype='object')\n",
      "Index(['source', 'type', 'gene_id', 'gene_version', 'gene_search', 'gene_type',\n",
      "       'gene_name'],\n",
      "      dtype='object')\n",
      "../../../../01-tangram/nonIF/layer/Br8667_post/ad_sp_orig.h5ad\n",
      "AAACAAGTATCTCCCA-1    Br8667_post\n",
      "AAACAATCTACTAGCA-1    Br8667_post\n",
      "AAACACCAATAACTGC-1    Br8667_post\n",
      "AAACAGAGCGACTCCT-1    Br8667_post\n",
      "AAACAGCTTTCAGAAG-1    Br8667_post\n",
      "                         ...     \n",
      "TTGTTTCACATCCAGG-1    Br8667_post\n",
      "TTGTTTCATTAGTCTA-1    Br8667_post\n",
      "TTGTTTCCATACAACT-1    Br8667_post\n",
      "TTGTTTGTATTACACG-1    Br8667_post\n",
      "TTGTTTGTGTAAATTC-1    Br8667_post\n",
      "Name: sample_id, Length: 4025, dtype: object\n"
     ]
    },
    {
     "name": "stderr",
     "output_type": "stream",
     "text": [
      "/camp/lab/gandhis/home/users/grantpm/.conda/envs/panpipes/lib/python3.8/site-packages/anndata/_core/anndata.py:798: UserWarning: \n",
      "AnnData expects .obs.index to contain strings, but got values like:\n",
      "    [0, 1, 2, 3, 4]\n",
      "\n",
      "    Inferred to be: integer\n",
      "\n",
      "  value_idx = self._prep_dim_index(value.index, attr)\n",
      "/camp/lab/gandhis/home/users/grantpm/.conda/envs/panpipes/lib/python3.8/site-packages/anndata/_core/anndata.py:1785: FutureWarning: X.dtype being converted to np.float32 from float64. In the next version of anndata (0.9) conversion will not be automatic. Pass dtype explicitly to avoid this warning. Pass `AnnData(X, dtype=X.dtype, ...)` to get the future behavour.\n",
      "  [AnnData(sparse.csr_matrix(a.shape), obs=a.obs) for a in all_adatas],\n"
     ]
    },
    {
     "name": "stdout",
     "output_type": "stream",
     "text": [
      "Index(['source', 'type', 'gene_id', 'gene_version', 'gene_search',\n",
      "       'gene_type-0', 'gene_name-0', 'gene_type-1', 'gene_name-1'],\n",
      "      dtype='object')\n",
      "Index(['source', 'type', 'gene_id', 'gene_version', 'gene_search', 'gene_type',\n",
      "       'gene_name'],\n",
      "      dtype='object')\n",
      "../../../../01-tangram/nonIF/layer/Br2743_post/ad_sp_orig.h5ad\n",
      "AAACAATCTACTAGCA-1    Br2743_post\n",
      "AAACACCAATAACTGC-1    Br2743_post\n",
      "AAACAGAGCGACTCCT-1    Br2743_post\n",
      "AAACAGCTTTCAGAAG-1    Br2743_post\n",
      "AAACAGGGTCTATATT-1    Br2743_post\n",
      "                         ...     \n",
      "TTGTTGTGTGTCAAGA-1    Br2743_post\n",
      "TTGTTTCACATCCAGG-1    Br2743_post\n",
      "TTGTTTCATTAGTCTA-1    Br2743_post\n",
      "TTGTTTCCATACAACT-1    Br2743_post\n",
      "TTGTTTGTGTAAATTC-1    Br2743_post\n",
      "Name: sample_id, Length: 3553, dtype: object\n"
     ]
    },
    {
     "name": "stderr",
     "output_type": "stream",
     "text": [
      "/camp/lab/gandhis/home/users/grantpm/.conda/envs/panpipes/lib/python3.8/site-packages/anndata/_core/anndata.py:798: UserWarning: \n",
      "AnnData expects .obs.index to contain strings, but got values like:\n",
      "    [0, 1, 2, 3, 4]\n",
      "\n",
      "    Inferred to be: integer\n",
      "\n",
      "  value_idx = self._prep_dim_index(value.index, attr)\n",
      "/camp/lab/gandhis/home/users/grantpm/.conda/envs/panpipes/lib/python3.8/site-packages/anndata/_core/anndata.py:1785: FutureWarning: X.dtype being converted to np.float32 from float64. In the next version of anndata (0.9) conversion will not be automatic. Pass dtype explicitly to avoid this warning. Pass `AnnData(X, dtype=X.dtype, ...)` to get the future behavour.\n",
      "  [AnnData(sparse.csr_matrix(a.shape), obs=a.obs) for a in all_adatas],\n"
     ]
    },
    {
     "name": "stdout",
     "output_type": "stream",
     "text": [
      "Index(['source', 'type', 'gene_id', 'gene_version', 'gene_search',\n",
      "       'gene_type-0', 'gene_name-0', 'gene_type-1', 'gene_name-1'],\n",
      "      dtype='object')\n",
      "Index(['source', 'type', 'gene_id', 'gene_version', 'gene_search', 'gene_type',\n",
      "       'gene_name'],\n",
      "      dtype='object')\n",
      "../../../../01-tangram/nonIF/layer/Br8492_post/ad_sp_orig.h5ad\n",
      "AAACAACGAATAGTTC-1    Br8492_post\n",
      "AAACAAGTATCTCCCA-1    Br8492_post\n",
      "AAACAATCTACTAGCA-1    Br8492_post\n",
      "AAACACCAATAACTGC-1    Br8492_post\n",
      "AAACAGAGCGACTCCT-1    Br8492_post\n",
      "                         ...     \n",
      "TTGTTGTGTGTCAAGA-1    Br8492_post\n",
      "TTGTTTCACATCCAGG-1    Br8492_post\n",
      "TTGTTTCATTAGTCTA-1    Br8492_post\n",
      "TTGTTTCCATACAACT-1    Br8492_post\n",
      "TTGTTTGTGTAAATTC-1    Br8492_post\n",
      "Name: sample_id, Length: 4567, dtype: object\n"
     ]
    },
    {
     "name": "stderr",
     "output_type": "stream",
     "text": [
      "/camp/lab/gandhis/home/users/grantpm/.conda/envs/panpipes/lib/python3.8/site-packages/anndata/_core/anndata.py:798: UserWarning: \n",
      "AnnData expects .obs.index to contain strings, but got values like:\n",
      "    [0, 1, 2, 3, 4]\n",
      "\n",
      "    Inferred to be: integer\n",
      "\n",
      "  value_idx = self._prep_dim_index(value.index, attr)\n",
      "/camp/lab/gandhis/home/users/grantpm/.conda/envs/panpipes/lib/python3.8/site-packages/anndata/_core/anndata.py:1785: FutureWarning: X.dtype being converted to np.float32 from float64. In the next version of anndata (0.9) conversion will not be automatic. Pass dtype explicitly to avoid this warning. Pass `AnnData(X, dtype=X.dtype, ...)` to get the future behavour.\n",
      "  [AnnData(sparse.csr_matrix(a.shape), obs=a.obs) for a in all_adatas],\n"
     ]
    },
    {
     "name": "stdout",
     "output_type": "stream",
     "text": [
      "Index(['source', 'type', 'gene_id', 'gene_version', 'gene_search',\n",
      "       'gene_type-0', 'gene_name-0', 'gene_type-1', 'gene_name-1'],\n",
      "      dtype='object')\n",
      "Index(['source', 'type', 'gene_id', 'gene_version', 'gene_search', 'gene_type',\n",
      "       'gene_name'],\n",
      "      dtype='object')\n",
      "../../../../01-tangram/nonIF/layer/Br6432_mid/ad_sp_orig.h5ad\n",
      "AAACAAGTATCTCCCA-1    Br6432_mid\n",
      "AAACAATCTACTAGCA-1    Br6432_mid\n",
      "AAACAGAGCGACTCCT-1    Br6432_mid\n",
      "AAACAGTGTTCCTGGG-1    Br6432_mid\n",
      "AAACCCGAACGAAATC-1    Br6432_mid\n",
      "                         ...    \n",
      "TTGTTGTGTGTCAAGA-1    Br6432_mid\n",
      "TTGTTTCACATCCAGG-1    Br6432_mid\n",
      "TTGTTTCCATACAACT-1    Br6432_mid\n",
      "TTGTTTGTATTACACG-1    Br6432_mid\n",
      "TTGTTTGTGTAAATTC-1    Br6432_mid\n",
      "Name: sample_id, Length: 3369, dtype: object\n"
     ]
    },
    {
     "name": "stderr",
     "output_type": "stream",
     "text": [
      "/camp/lab/gandhis/home/users/grantpm/.conda/envs/panpipes/lib/python3.8/site-packages/anndata/_core/anndata.py:798: UserWarning: \n",
      "AnnData expects .obs.index to contain strings, but got values like:\n",
      "    [0, 1, 2, 3, 4]\n",
      "\n",
      "    Inferred to be: integer\n",
      "\n",
      "  value_idx = self._prep_dim_index(value.index, attr)\n",
      "/camp/lab/gandhis/home/users/grantpm/.conda/envs/panpipes/lib/python3.8/site-packages/anndata/_core/anndata.py:1785: FutureWarning: X.dtype being converted to np.float32 from float64. In the next version of anndata (0.9) conversion will not be automatic. Pass dtype explicitly to avoid this warning. Pass `AnnData(X, dtype=X.dtype, ...)` to get the future behavour.\n",
      "  [AnnData(sparse.csr_matrix(a.shape), obs=a.obs) for a in all_adatas],\n"
     ]
    },
    {
     "name": "stdout",
     "output_type": "stream",
     "text": [
      "Index(['source', 'type', 'gene_id', 'gene_version', 'gene_search',\n",
      "       'gene_type-0', 'gene_name-0', 'gene_type-1', 'gene_name-1'],\n",
      "      dtype='object')\n",
      "Index(['source', 'type', 'gene_id', 'gene_version', 'gene_search', 'gene_type',\n",
      "       'gene_name'],\n",
      "      dtype='object')\n",
      "../../../../01-tangram/nonIF/layer/Br8325_post/ad_sp_orig.h5ad\n",
      "AAACAAGTATCTCCCA-1    Br8325_post\n",
      "AAACAATCTACTAGCA-1    Br8325_post\n",
      "AAACACCAATAACTGC-1    Br8325_post\n",
      "AAACAGAGCGACTCCT-1    Br8325_post\n",
      "AAACAGCTTTCAGAAG-1    Br8325_post\n",
      "                         ...     \n",
      "TTGTTTCACATCCAGG-1    Br8325_post\n",
      "TTGTTTCATTAGTCTA-1    Br8325_post\n",
      "TTGTTTCCATACAACT-1    Br8325_post\n",
      "TTGTTTGTATTACACG-1    Br8325_post\n",
      "TTGTTTGTGTAAATTC-1    Br8325_post\n",
      "Name: sample_id, Length: 4176, dtype: object\n"
     ]
    },
    {
     "name": "stderr",
     "output_type": "stream",
     "text": [
      "/camp/lab/gandhis/home/users/grantpm/.conda/envs/panpipes/lib/python3.8/site-packages/anndata/_core/anndata.py:798: UserWarning: \n",
      "AnnData expects .obs.index to contain strings, but got values like:\n",
      "    [0, 1, 2, 3, 4]\n",
      "\n",
      "    Inferred to be: integer\n",
      "\n",
      "  value_idx = self._prep_dim_index(value.index, attr)\n",
      "/camp/lab/gandhis/home/users/grantpm/.conda/envs/panpipes/lib/python3.8/site-packages/anndata/_core/anndata.py:1785: FutureWarning: X.dtype being converted to np.float32 from float64. In the next version of anndata (0.9) conversion will not be automatic. Pass dtype explicitly to avoid this warning. Pass `AnnData(X, dtype=X.dtype, ...)` to get the future behavour.\n",
      "  [AnnData(sparse.csr_matrix(a.shape), obs=a.obs) for a in all_adatas],\n"
     ]
    },
    {
     "name": "stdout",
     "output_type": "stream",
     "text": [
      "Index(['source', 'type', 'gene_id', 'gene_version', 'gene_search',\n",
      "       'gene_type-0', 'gene_name-0', 'gene_type-1', 'gene_name-1'],\n",
      "      dtype='object')\n",
      "Index(['source', 'type', 'gene_id', 'gene_version', 'gene_search', 'gene_type',\n",
      "       'gene_name'],\n",
      "      dtype='object')\n",
      "../../../../01-tangram/nonIF/layer/Br8492_ant/ad_sp_orig.h5ad\n",
      "AAACAACGAATAGTTC-1    Br8492_ant\n",
      "AAACAAGTATCTCCCA-1    Br8492_ant\n",
      "AAACAATCTACTAGCA-1    Br8492_ant\n",
      "AAACACCAATAACTGC-1    Br8492_ant\n",
      "AAACAGAGCGACTCCT-1    Br8492_ant\n",
      "                         ...    \n",
      "TTGTTTCACATCCAGG-1    Br8492_ant\n",
      "TTGTTTCATTAGTCTA-1    Br8492_ant\n",
      "TTGTTTCCATACAACT-1    Br8492_ant\n",
      "TTGTTTGTATTACACG-1    Br8492_ant\n",
      "TTGTTTGTGTAAATTC-1    Br8492_ant\n",
      "Name: sample_id, Length: 4709, dtype: object\n"
     ]
    },
    {
     "name": "stderr",
     "output_type": "stream",
     "text": [
      "/camp/lab/gandhis/home/users/grantpm/.conda/envs/panpipes/lib/python3.8/site-packages/anndata/_core/anndata.py:798: UserWarning: \n",
      "AnnData expects .obs.index to contain strings, but got values like:\n",
      "    [0, 1, 2, 3, 4]\n",
      "\n",
      "    Inferred to be: integer\n",
      "\n",
      "  value_idx = self._prep_dim_index(value.index, attr)\n",
      "/camp/lab/gandhis/home/users/grantpm/.conda/envs/panpipes/lib/python3.8/site-packages/anndata/_core/anndata.py:1785: FutureWarning: X.dtype being converted to np.float32 from float64. In the next version of anndata (0.9) conversion will not be automatic. Pass dtype explicitly to avoid this warning. Pass `AnnData(X, dtype=X.dtype, ...)` to get the future behavour.\n",
      "  [AnnData(sparse.csr_matrix(a.shape), obs=a.obs) for a in all_adatas],\n"
     ]
    },
    {
     "name": "stdout",
     "output_type": "stream",
     "text": [
      "Index(['source', 'type', 'gene_id', 'gene_version', 'gene_search',\n",
      "       'gene_type-0', 'gene_name-0', 'gene_type-1', 'gene_name-1'],\n",
      "      dtype='object')\n",
      "Index(['source', 'type', 'gene_id', 'gene_version', 'gene_search', 'gene_type',\n",
      "       'gene_name'],\n",
      "      dtype='object')\n",
      "../../../../01-tangram/nonIF/layer/Br8325_mid/ad_sp_orig.h5ad\n",
      "AAACAAGTATCTCCCA-1    Br8325_mid\n",
      "AAACAATCTACTAGCA-1    Br8325_mid\n",
      "AAACACCAATAACTGC-1    Br8325_mid\n",
      "AAACAGAGCGACTCCT-1    Br8325_mid\n",
      "AAACAGCTTTCAGAAG-1    Br8325_mid\n",
      "                         ...    \n",
      "TTGTTGTGTGTCAAGA-1    Br8325_mid\n",
      "TTGTTTCACATCCAGG-1    Br8325_mid\n",
      "TTGTTTCATTAGTCTA-1    Br8325_mid\n",
      "TTGTTTCCATACAACT-1    Br8325_mid\n",
      "TTGTTTGTGTAAATTC-1    Br8325_mid\n",
      "Name: sample_id, Length: 3840, dtype: object\n"
     ]
    },
    {
     "name": "stderr",
     "output_type": "stream",
     "text": [
      "/camp/lab/gandhis/home/users/grantpm/.conda/envs/panpipes/lib/python3.8/site-packages/anndata/_core/anndata.py:798: UserWarning: \n",
      "AnnData expects .obs.index to contain strings, but got values like:\n",
      "    [0, 1, 2, 3, 4]\n",
      "\n",
      "    Inferred to be: integer\n",
      "\n",
      "  value_idx = self._prep_dim_index(value.index, attr)\n",
      "/camp/lab/gandhis/home/users/grantpm/.conda/envs/panpipes/lib/python3.8/site-packages/anndata/_core/anndata.py:1785: FutureWarning: X.dtype being converted to np.float32 from float64. In the next version of anndata (0.9) conversion will not be automatic. Pass dtype explicitly to avoid this warning. Pass `AnnData(X, dtype=X.dtype, ...)` to get the future behavour.\n",
      "  [AnnData(sparse.csr_matrix(a.shape), obs=a.obs) for a in all_adatas],\n"
     ]
    },
    {
     "name": "stdout",
     "output_type": "stream",
     "text": [
      "Index(['source', 'type', 'gene_id', 'gene_version', 'gene_type', 'gene_search',\n",
      "       'gene_name-0', 'gene_name-1'],\n",
      "      dtype='object')\n",
      "Index(['source', 'type', 'gene_id', 'gene_version', 'gene_type', 'gene_search',\n",
      "       'gene_name'],\n",
      "      dtype='object')\n",
      "../../../../01-tangram/nonIF/layer/Br6471_ant/ad_sp_orig.h5ad\n",
      "AAACAAGTATCTCCCA-1    Br6471_ant\n",
      "AAACACCAATAACTGC-1    Br6471_ant\n",
      "AAACAGCTTTCAGAAG-1    Br6471_ant\n",
      "AAACAGGGTCTATATT-1    Br6471_ant\n",
      "AAACATGGTGAGAGGA-1    Br6471_ant\n",
      "                         ...    \n",
      "TTGTTCAGTGTGCTAC-1    Br6471_ant\n",
      "TTGTTGTGTGTCAAGA-1    Br6471_ant\n",
      "TTGTTTCACATCCAGG-1    Br6471_ant\n",
      "TTGTTTCATTAGTCTA-1    Br6471_ant\n",
      "TTGTTTCCATACAACT-1    Br6471_ant\n",
      "Name: sample_id, Length: 3135, dtype: object\n"
     ]
    },
    {
     "name": "stderr",
     "output_type": "stream",
     "text": [
      "/camp/lab/gandhis/home/users/grantpm/.conda/envs/panpipes/lib/python3.8/site-packages/anndata/_core/anndata.py:798: UserWarning: \n",
      "AnnData expects .obs.index to contain strings, but got values like:\n",
      "    [0, 1, 2, 3, 4]\n",
      "\n",
      "    Inferred to be: integer\n",
      "\n",
      "  value_idx = self._prep_dim_index(value.index, attr)\n",
      "/camp/lab/gandhis/home/users/grantpm/.conda/envs/panpipes/lib/python3.8/site-packages/anndata/_core/anndata.py:1785: FutureWarning: X.dtype being converted to np.float32 from float64. In the next version of anndata (0.9) conversion will not be automatic. Pass dtype explicitly to avoid this warning. Pass `AnnData(X, dtype=X.dtype, ...)` to get the future behavour.\n",
      "  [AnnData(sparse.csr_matrix(a.shape), obs=a.obs) for a in all_adatas],\n"
     ]
    },
    {
     "name": "stdout",
     "output_type": "stream",
     "text": [
      "Index(['source', 'type', 'gene_id', 'gene_version', 'gene_search',\n",
      "       'gene_type-0', 'gene_name-0', 'gene_type-1', 'gene_name-1'],\n",
      "      dtype='object')\n",
      "Index(['source', 'type', 'gene_id', 'gene_version', 'gene_search', 'gene_type',\n",
      "       'gene_name'],\n",
      "      dtype='object')\n",
      "../../../../01-tangram/nonIF/layer/Br2720_mid/ad_sp_orig.h5ad\n",
      "AAACAAGTATCTCCCA-1    Br2720_mid\n",
      "AAACAGTGTTCCTGGG-1    Br2720_mid\n",
      "AAACATTTCCCGGATT-1    Br2720_mid\n",
      "AAACCCGAACGAAATC-1    Br2720_mid\n",
      "AAACCGGAAATGTTAA-1    Br2720_mid\n",
      "                         ...    \n",
      "TTGTGGTGGTACTAAG-1    Br2720_mid\n",
      "TTGTGTATGCCACCAA-1    Br2720_mid\n",
      "TTGTGTTTCCCGAAAG-1    Br2720_mid\n",
      "TTGTTTCACATCCAGG-1    Br2720_mid\n",
      "TTGTTTGTATTACACG-1    Br2720_mid\n",
      "Name: sample_id, Length: 1796, dtype: object\n"
     ]
    },
    {
     "name": "stderr",
     "output_type": "stream",
     "text": [
      "/camp/lab/gandhis/home/users/grantpm/.conda/envs/panpipes/lib/python3.8/site-packages/anndata/_core/anndata.py:798: UserWarning: \n",
      "AnnData expects .obs.index to contain strings, but got values like:\n",
      "    [0, 1, 2, 3, 4]\n",
      "\n",
      "    Inferred to be: integer\n",
      "\n",
      "  value_idx = self._prep_dim_index(value.index, attr)\n",
      "/camp/lab/gandhis/home/users/grantpm/.conda/envs/panpipes/lib/python3.8/site-packages/anndata/_core/anndata.py:1785: FutureWarning: X.dtype being converted to np.float32 from float64. In the next version of anndata (0.9) conversion will not be automatic. Pass dtype explicitly to avoid this warning. Pass `AnnData(X, dtype=X.dtype, ...)` to get the future behavour.\n",
      "  [AnnData(sparse.csr_matrix(a.shape), obs=a.obs) for a in all_adatas],\n"
     ]
    },
    {
     "name": "stdout",
     "output_type": "stream",
     "text": [
      "Index(['source', 'type', 'gene_id', 'gene_version', 'gene_search',\n",
      "       'gene_type-0', 'gene_name-0', 'gene_type-1', 'gene_name-1'],\n",
      "      dtype='object')\n",
      "Index(['source', 'type', 'gene_id', 'gene_version', 'gene_search', 'gene_type',\n",
      "       'gene_name'],\n",
      "      dtype='object')\n",
      "../../../../01-tangram/nonIF/layer/Br2743_ant/ad_sp_orig.h5ad\n",
      "AAACAACGAATAGTTC-1    Br2743_ant\n",
      "AAACAAGTATCTCCCA-1    Br2743_ant\n",
      "AAACAATCTACTAGCA-1    Br2743_ant\n",
      "AAACACCAATAACTGC-1    Br2743_ant\n",
      "AAACAGAGCGACTCCT-1    Br2743_ant\n",
      "                         ...    \n",
      "TTGTTTCACATCCAGG-1    Br2743_ant\n",
      "TTGTTTCATTAGTCTA-1    Br2743_ant\n",
      "TTGTTTCCATACAACT-1    Br2743_ant\n",
      "TTGTTTGTATTACACG-1    Br2743_ant\n",
      "TTGTTTGTGTAAATTC-1    Br2743_ant\n",
      "Name: sample_id, Length: 4068, dtype: object\n"
     ]
    },
    {
     "name": "stderr",
     "output_type": "stream",
     "text": [
      "/camp/lab/gandhis/home/users/grantpm/.conda/envs/panpipes/lib/python3.8/site-packages/anndata/_core/anndata.py:798: UserWarning: \n",
      "AnnData expects .obs.index to contain strings, but got values like:\n",
      "    [0, 1, 2, 3, 4]\n",
      "\n",
      "    Inferred to be: integer\n",
      "\n",
      "  value_idx = self._prep_dim_index(value.index, attr)\n",
      "/camp/lab/gandhis/home/users/grantpm/.conda/envs/panpipes/lib/python3.8/site-packages/anndata/_core/anndata.py:1785: FutureWarning: X.dtype being converted to np.float32 from float64. In the next version of anndata (0.9) conversion will not be automatic. Pass dtype explicitly to avoid this warning. Pass `AnnData(X, dtype=X.dtype, ...)` to get the future behavour.\n",
      "  [AnnData(sparse.csr_matrix(a.shape), obs=a.obs) for a in all_adatas],\n"
     ]
    },
    {
     "name": "stdout",
     "output_type": "stream",
     "text": [
      "Index(['source', 'type', 'gene_id', 'gene_version', 'gene_search',\n",
      "       'gene_type-0', 'gene_name-0', 'gene_type-1', 'gene_name-1'],\n",
      "      dtype='object')\n",
      "Index(['source', 'type', 'gene_id', 'gene_version', 'gene_search', 'gene_type',\n",
      "       'gene_name'],\n",
      "      dtype='object')\n",
      "../../../../01-tangram/nonIF/layer/Br6432_ant/ad_sp_orig.h5ad\n",
      "AAACAAGTATCTCCCA-1    Br6432_ant\n",
      "AAACACCAATAACTGC-1    Br6432_ant\n",
      "AAACAGAGCGACTCCT-1    Br6432_ant\n",
      "AAACAGGGTCTATATT-1    Br6432_ant\n",
      "AAACAGTGTTCCTGGG-1    Br6432_ant\n",
      "                         ...    \n",
      "TTGTTTCACATCCAGG-1    Br6432_ant\n",
      "TTGTTTCATTAGTCTA-1    Br6432_ant\n",
      "TTGTTTCCATACAACT-1    Br6432_ant\n",
      "TTGTTTGTATTACACG-1    Br6432_ant\n",
      "TTGTTTGTGTAAATTC-1    Br6432_ant\n",
      "Name: sample_id, Length: 3905, dtype: object\n"
     ]
    },
    {
     "name": "stderr",
     "output_type": "stream",
     "text": [
      "/camp/lab/gandhis/home/users/grantpm/.conda/envs/panpipes/lib/python3.8/site-packages/anndata/_core/anndata.py:798: UserWarning: \n",
      "AnnData expects .obs.index to contain strings, but got values like:\n",
      "    [0, 1, 2, 3, 4]\n",
      "\n",
      "    Inferred to be: integer\n",
      "\n",
      "  value_idx = self._prep_dim_index(value.index, attr)\n",
      "/camp/lab/gandhis/home/users/grantpm/.conda/envs/panpipes/lib/python3.8/site-packages/anndata/_core/anndata.py:1785: FutureWarning: X.dtype being converted to np.float32 from float64. In the next version of anndata (0.9) conversion will not be automatic. Pass dtype explicitly to avoid this warning. Pass `AnnData(X, dtype=X.dtype, ...)` to get the future behavour.\n",
      "  [AnnData(sparse.csr_matrix(a.shape), obs=a.obs) for a in all_adatas],\n"
     ]
    },
    {
     "name": "stdout",
     "output_type": "stream",
     "text": [
      "Index(['source', 'type', 'gene_id', 'gene_version', 'gene_search',\n",
      "       'gene_type-0', 'gene_name-0', 'gene_type-1', 'gene_name-1'],\n",
      "      dtype='object')\n",
      "Index(['source', 'type', 'gene_id', 'gene_version', 'gene_search', 'gene_type',\n",
      "       'gene_name'],\n",
      "      dtype='object')\n",
      "../../../../01-tangram/nonIF/layer/Br6423_post/ad_sp_orig.h5ad\n",
      "AAACAAGTATCTCCCA-1    Br6423_post\n",
      "AAACAATCTACTAGCA-1    Br6423_post\n",
      "AAACACCAATAACTGC-1    Br6423_post\n",
      "AAACAGAGCGACTCCT-1    Br6423_post\n",
      "AAACAGCTTTCAGAAG-1    Br6423_post\n",
      "                         ...     \n",
      "TTGTTGTGTGTCAAGA-1    Br6423_post\n",
      "TTGTTTCACATCCAGG-1    Br6423_post\n",
      "TTGTTTCATTAGTCTA-1    Br6423_post\n",
      "TTGTTTCCATACAACT-1    Br6423_post\n",
      "TTGTTTGTGTAAATTC-1    Br6423_post\n",
      "Name: sample_id, Length: 3819, dtype: object\n"
     ]
    },
    {
     "name": "stderr",
     "output_type": "stream",
     "text": [
      "/camp/lab/gandhis/home/users/grantpm/.conda/envs/panpipes/lib/python3.8/site-packages/anndata/_core/anndata.py:798: UserWarning: \n",
      "AnnData expects .obs.index to contain strings, but got values like:\n",
      "    [0, 1, 2, 3, 4]\n",
      "\n",
      "    Inferred to be: integer\n",
      "\n",
      "  value_idx = self._prep_dim_index(value.index, attr)\n",
      "/camp/lab/gandhis/home/users/grantpm/.conda/envs/panpipes/lib/python3.8/site-packages/anndata/_core/anndata.py:1785: FutureWarning: X.dtype being converted to np.float32 from float64. In the next version of anndata (0.9) conversion will not be automatic. Pass dtype explicitly to avoid this warning. Pass `AnnData(X, dtype=X.dtype, ...)` to get the future behavour.\n",
      "  [AnnData(sparse.csr_matrix(a.shape), obs=a.obs) for a in all_adatas],\n"
     ]
    },
    {
     "name": "stdout",
     "output_type": "stream",
     "text": [
      "Index(['source', 'type', 'gene_id', 'gene_version', 'gene_search',\n",
      "       'gene_type-0', 'gene_name-0', 'gene_type-1', 'gene_name-1'],\n",
      "      dtype='object')\n",
      "Index(['source', 'type', 'gene_id', 'gene_version', 'gene_search', 'gene_type',\n",
      "       'gene_name'],\n",
      "      dtype='object')\n",
      "../../../../01-tangram/nonIF/layer/Br6522_post/ad_sp_orig.h5ad\n",
      "AAACAATCTACTAGCA-1    Br6522_post\n",
      "AAACACCAATAACTGC-1    Br6522_post\n",
      "AAACAGAGCGACTCCT-1    Br6522_post\n",
      "AAACAGCTTTCAGAAG-1    Br6522_post\n",
      "AAACAGGGTCTATATT-1    Br6522_post\n",
      "                         ...     \n",
      "TTGTTCTAGATACGCT-1    Br6522_post\n",
      "TTGTTGTGTGTCAAGA-1    Br6522_post\n",
      "TTGTTTCATTAGTCTA-1    Br6522_post\n",
      "TTGTTTCCATACAACT-1    Br6522_post\n",
      "TTGTTTGTGTAAATTC-1    Br6522_post\n",
      "Name: sample_id, Length: 3861, dtype: object\n"
     ]
    },
    {
     "name": "stderr",
     "output_type": "stream",
     "text": [
      "/camp/lab/gandhis/home/users/grantpm/.conda/envs/panpipes/lib/python3.8/site-packages/anndata/_core/anndata.py:798: UserWarning: \n",
      "AnnData expects .obs.index to contain strings, but got values like:\n",
      "    [0, 1, 2, 3, 4]\n",
      "\n",
      "    Inferred to be: integer\n",
      "\n",
      "  value_idx = self._prep_dim_index(value.index, attr)\n",
      "/camp/lab/gandhis/home/users/grantpm/.conda/envs/panpipes/lib/python3.8/site-packages/anndata/_core/anndata.py:1785: FutureWarning: X.dtype being converted to np.float32 from float64. In the next version of anndata (0.9) conversion will not be automatic. Pass dtype explicitly to avoid this warning. Pass `AnnData(X, dtype=X.dtype, ...)` to get the future behavour.\n",
      "  [AnnData(sparse.csr_matrix(a.shape), obs=a.obs) for a in all_adatas],\n"
     ]
    },
    {
     "name": "stdout",
     "output_type": "stream",
     "text": [
      "Index(['source', 'type', 'gene_id', 'gene_version', 'gene_search',\n",
      "       'gene_type-0', 'gene_name-0', 'gene_type-1', 'gene_name-1'],\n",
      "      dtype='object')\n",
      "Index(['source', 'type', 'gene_id', 'gene_version', 'gene_search', 'gene_type',\n",
      "       'gene_name'],\n",
      "      dtype='object')\n",
      "../../../../01-tangram/nonIF/layer/Br6423_mid/ad_sp_orig.h5ad\n",
      "AAACAACGAATAGTTC-1    Br6423_mid\n",
      "AAACAAGTATCTCCCA-1    Br6423_mid\n",
      "AAACAATCTACTAGCA-1    Br6423_mid\n",
      "AAACACCAATAACTGC-1    Br6423_mid\n",
      "AAACAGAGCGACTCCT-1    Br6423_mid\n",
      "                         ...    \n",
      "TTGTTTCACATCCAGG-1    Br6423_mid\n",
      "TTGTTTCATTAGTCTA-1    Br6423_mid\n",
      "TTGTTTCCATACAACT-1    Br6423_mid\n",
      "TTGTTTGTATTACACG-1    Br6423_mid\n",
      "TTGTTTGTGTAAATTC-1    Br6423_mid\n",
      "Name: sample_id, Length: 3872, dtype: object\n"
     ]
    },
    {
     "name": "stderr",
     "output_type": "stream",
     "text": [
      "/camp/lab/gandhis/home/users/grantpm/.conda/envs/panpipes/lib/python3.8/site-packages/anndata/_core/anndata.py:798: UserWarning: \n",
      "AnnData expects .obs.index to contain strings, but got values like:\n",
      "    [0, 1, 2, 3, 4]\n",
      "\n",
      "    Inferred to be: integer\n",
      "\n",
      "  value_idx = self._prep_dim_index(value.index, attr)\n",
      "/camp/lab/gandhis/home/users/grantpm/.conda/envs/panpipes/lib/python3.8/site-packages/anndata/_core/anndata.py:1785: FutureWarning: X.dtype being converted to np.float32 from float64. In the next version of anndata (0.9) conversion will not be automatic. Pass dtype explicitly to avoid this warning. Pass `AnnData(X, dtype=X.dtype, ...)` to get the future behavour.\n",
      "  [AnnData(sparse.csr_matrix(a.shape), obs=a.obs) for a in all_adatas],\n"
     ]
    },
    {
     "name": "stdout",
     "output_type": "stream",
     "text": [
      "Index(['source', 'type', 'gene_id', 'gene_version', 'gene_search',\n",
      "       'gene_type-0', 'gene_name-0', 'gene_type-1', 'gene_name-1'],\n",
      "      dtype='object')\n",
      "Index(['source', 'type', 'gene_id', 'gene_version', 'gene_search', 'gene_type',\n",
      "       'gene_name'],\n",
      "      dtype='object')\n",
      "../../../../01-tangram/nonIF/layer/Br6423_ant/ad_sp_orig.h5ad\n",
      "AAACAACGAATAGTTC-1    Br6423_ant\n",
      "AAACAAGTATCTCCCA-1    Br6423_ant\n",
      "AAACAATCTACTAGCA-1    Br6423_ant\n",
      "AAACACCAATAACTGC-1    Br6423_ant\n",
      "AAACAGCTTTCAGAAG-1    Br6423_ant\n",
      "                         ...    \n",
      "TTGTTTCACATCCAGG-1    Br6423_ant\n",
      "TTGTTTCATTAGTCTA-1    Br6423_ant\n",
      "TTGTTTCCATACAACT-1    Br6423_ant\n",
      "TTGTTTGTATTACACG-1    Br6423_ant\n",
      "TTGTTTGTGTAAATTC-1    Br6423_ant\n",
      "Name: sample_id, Length: 3788, dtype: object\n"
     ]
    },
    {
     "name": "stderr",
     "output_type": "stream",
     "text": [
      "/camp/lab/gandhis/home/users/grantpm/.conda/envs/panpipes/lib/python3.8/site-packages/anndata/_core/anndata.py:798: UserWarning: \n",
      "AnnData expects .obs.index to contain strings, but got values like:\n",
      "    [0, 1, 2, 3, 4]\n",
      "\n",
      "    Inferred to be: integer\n",
      "\n",
      "  value_idx = self._prep_dim_index(value.index, attr)\n",
      "/camp/lab/gandhis/home/users/grantpm/.conda/envs/panpipes/lib/python3.8/site-packages/anndata/_core/anndata.py:1785: FutureWarning: X.dtype being converted to np.float32 from float64. In the next version of anndata (0.9) conversion will not be automatic. Pass dtype explicitly to avoid this warning. Pass `AnnData(X, dtype=X.dtype, ...)` to get the future behavour.\n",
      "  [AnnData(sparse.csr_matrix(a.shape), obs=a.obs) for a in all_adatas],\n"
     ]
    },
    {
     "name": "stdout",
     "output_type": "stream",
     "text": [
      "Index(['source', 'type', 'gene_id', 'gene_version', 'gene_search',\n",
      "       'gene_type-0', 'gene_name-0', 'gene_type-1', 'gene_name-1'],\n",
      "      dtype='object')\n",
      "Index(['source', 'type', 'gene_id', 'gene_version', 'gene_search', 'gene_type',\n",
      "       'gene_name'],\n",
      "      dtype='object')\n",
      "../../../../01-tangram/nonIF/layer/Br2720_post/ad_sp_orig.h5ad\n",
      "AAACAACGAATAGTTC-1    Br2720_post\n",
      "AAACAAGTATCTCCCA-1    Br2720_post\n",
      "AAACAATCTACTAGCA-1    Br2720_post\n",
      "AAACACCAATAACTGC-1    Br2720_post\n",
      "AAACAGAGCGACTCCT-1    Br2720_post\n",
      "                         ...     \n",
      "TTGTTTCACATCCAGG-1    Br2720_post\n",
      "TTGTTTCATTAGTCTA-1    Br2720_post\n",
      "TTGTTTCCATACAACT-1    Br2720_post\n",
      "TTGTTTGTATTACACG-1    Br2720_post\n",
      "TTGTTTGTGTAAATTC-1    Br2720_post\n",
      "Name: sample_id, Length: 4623, dtype: object\n"
     ]
    },
    {
     "name": "stderr",
     "output_type": "stream",
     "text": [
      "/camp/lab/gandhis/home/users/grantpm/.conda/envs/panpipes/lib/python3.8/site-packages/anndata/_core/anndata.py:798: UserWarning: \n",
      "AnnData expects .obs.index to contain strings, but got values like:\n",
      "    [0, 1, 2, 3, 4]\n",
      "\n",
      "    Inferred to be: integer\n",
      "\n",
      "  value_idx = self._prep_dim_index(value.index, attr)\n",
      "/camp/lab/gandhis/home/users/grantpm/.conda/envs/panpipes/lib/python3.8/site-packages/anndata/_core/anndata.py:1785: FutureWarning: X.dtype being converted to np.float32 from float64. In the next version of anndata (0.9) conversion will not be automatic. Pass dtype explicitly to avoid this warning. Pass `AnnData(X, dtype=X.dtype, ...)` to get the future behavour.\n",
      "  [AnnData(sparse.csr_matrix(a.shape), obs=a.obs) for a in all_adatas],\n"
     ]
    },
    {
     "name": "stdout",
     "output_type": "stream",
     "text": [
      "Index(['source', 'type', 'gene_id', 'gene_version', 'gene_search',\n",
      "       'gene_type-0', 'gene_name-0', 'gene_type-1', 'gene_name-1'],\n",
      "      dtype='object')\n",
      "Index(['source', 'type', 'gene_id', 'gene_version', 'gene_search', 'gene_type',\n",
      "       'gene_name'],\n",
      "      dtype='object')\n",
      "../../../../01-tangram/nonIF/layer/Br3942_ant/ad_sp_orig.h5ad\n",
      "AAACAAGTATCTCCCA-1    Br3942_ant\n",
      "AAACACCAATAACTGC-1    Br3942_ant\n",
      "AAACAGAGCGACTCCT-1    Br3942_ant\n",
      "AAACAGCTTTCAGAAG-1    Br3942_ant\n",
      "AAACAGGGTCTATATT-1    Br3942_ant\n",
      "                         ...    \n",
      "TTGTTCTAGATACGCT-1    Br3942_ant\n",
      "TTGTTGTGTGTCAAGA-1    Br3942_ant\n",
      "TTGTTTCACATCCAGG-1    Br3942_ant\n",
      "TTGTTTCATTAGTCTA-1    Br3942_ant\n",
      "TTGTTTCCATACAACT-1    Br3942_ant\n",
      "Name: sample_id, Length: 3842, dtype: object\n"
     ]
    },
    {
     "name": "stderr",
     "output_type": "stream",
     "text": [
      "/camp/lab/gandhis/home/users/grantpm/.conda/envs/panpipes/lib/python3.8/site-packages/anndata/_core/anndata.py:798: UserWarning: \n",
      "AnnData expects .obs.index to contain strings, but got values like:\n",
      "    [0, 1, 2, 3, 4]\n",
      "\n",
      "    Inferred to be: integer\n",
      "\n",
      "  value_idx = self._prep_dim_index(value.index, attr)\n",
      "/camp/lab/gandhis/home/users/grantpm/.conda/envs/panpipes/lib/python3.8/site-packages/anndata/_core/anndata.py:1785: FutureWarning: X.dtype being converted to np.float32 from float64. In the next version of anndata (0.9) conversion will not be automatic. Pass dtype explicitly to avoid this warning. Pass `AnnData(X, dtype=X.dtype, ...)` to get the future behavour.\n",
      "  [AnnData(sparse.csr_matrix(a.shape), obs=a.obs) for a in all_adatas],\n"
     ]
    },
    {
     "name": "stdout",
     "output_type": "stream",
     "text": [
      "Index(['source', 'type', 'gene_id', 'gene_version', 'gene_search',\n",
      "       'gene_type-0', 'gene_name-0', 'gene_type-1', 'gene_name-1'],\n",
      "      dtype='object')\n",
      "Index(['source', 'type', 'gene_id', 'gene_version', 'gene_search', 'gene_type',\n",
      "       'gene_name'],\n",
      "      dtype='object')\n"
     ]
    }
   ],
   "source": [
    "###--------------------------------------------COMBINE NON-IMMUNOFLUORESCENCE DATA TO C2L RESULTS\n",
    "\n",
    "count = 0\n",
    "for sample in glob.glob('../../../../DLPFC_Visium_LIBD/processed-data/01-tangram/nonIF/layer/*/ad_sp_orig.h5ad'):\n",
    "    print(sample)\n",
    "    df = pd.read_csv('../../../../DLPFC_Visium_LIBD/processed-data/spot_deconvo/03-cell2location/03-cell2location/nonIF/layer/'+sample.split('/')[7]+'/clusters.csv')\n",
    "    adata = sc.read(sample)\n",
    "    adata.obs['key'] = adata.obs.index+'_'+adata.obs['sample_id'].astype(str)\n",
    "    print(adata.obs['sample_id'].astype(str))\n",
    "    adata.obs['key'].astype('category')\n",
    "    \n",
    "    adata.obs.reset_index(inplace = True)\n",
    "    adata.var.drop(columns = ['n_cells'], inplace = True)\n",
    "    adata.obs = adata.obs.merge(df, left_on = 'key', right_on = 'key', how = 'left')\n",
    "    adata.obs.set_index('key', inplace = True)\n",
    "    adata.obs\n",
    "    if (count == 0):\n",
    "        combined = adata\n",
    "    else:\n",
    "        combined = combined.concatenate(adata)\n",
    "        print(combined.var.columns)\n",
    "        if 'gene_type-1' in combined.var.columns:\n",
    "            if (combined.var['gene_type-1'].astype(str).equals(combined.var['gene_type-0'].astype(str))==True):\n",
    "                combined.var['gene_type'] = combined.var['gene_type-1']\n",
    "                combined.var.drop(columns = ['gene_type-1', 'gene_type-0'], inplace = True)\n",
    "        if 'gene_name-1' in combined.var.columns:\n",
    "            if (combined.var['gene_name-1'].astype(str).equals(combined.var['gene_name-0'].astype(str))==True):\n",
    "                combined.var['gene_name'] = combined.var['gene_name-1']\n",
    "                combined.var.drop(columns = ['gene_name-1', 'gene_name-0'], inplace = True)\n",
    "        print(combined.var.columns)\n",
    "    count+=1\n",
    "    \n",
    "combined.write('../../../processed-data/gene-risk-LR-analysis/00-OpenTargets_SCZ_risk_genes/nonIF_c2l_anndata_combined.h5ad')\n",
    "\n",
    "adata = sc.read_h5ad('../../../processed-data/gene-risk-LR-analysis/03-colocalisation_analysis/nonIF_c2l_anndata_combined.h5ad')\n",
    "adata.obs['index'] = adata.obs['index'].astype(str)+'_'+adata.obs['sample_id'].astype(str)\n",
    "adata.obs[['index', 'Astro', 'EndoMural', 'Excit_L2_3', 'Excit_L3', 'Excit_L3_4_5', 'Excit_L4', 'Excit_L5', 'Excit_L5_6', 'Excit_L6', 'Inhib', 'Micro', 'OPC', 'Oligo']].to_csv('../../../processed-data/gene-risk-LR-analysis/03-colocalisation_analysis/nonIF_c2l_annotation.csv', index = False)"
   ]
  },
  {
   "cell_type": "code",
   "execution_count": null,
   "id": "fb64efcf-baf0-4880-a714-b7633d03cb89",
   "metadata": {},
   "outputs": [],
   "source": []
  }
 ],
 "metadata": {
  "kernelspec": {
   "display_name": "panpipes",
   "language": "python",
   "name": "panpipes"
  },
  "language_info": {
   "codemirror_mode": {
    "name": "ipython",
    "version": 3
   },
   "file_extension": ".py",
   "mimetype": "text/x-python",
   "name": "python",
   "nbconvert_exporter": "python",
   "pygments_lexer": "ipython3",
   "version": "3.8.13"
  }
 },
 "nbformat": 4,
 "nbformat_minor": 5
}
