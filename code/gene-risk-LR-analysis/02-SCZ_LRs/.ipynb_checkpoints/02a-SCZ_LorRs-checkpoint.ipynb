{
 "cells": [
  {
   "cell_type": "code",
   "execution_count": 1,
   "id": "4eeb614f-985a-441a-bcc9-48161b28cfe9",
   "metadata": {
    "tags": []
   },
   "outputs": [],
   "source": [
    "import pandas as pd\n",
    "import numpy as np\n",
    "import omnipath as op"
   ]
  },
  {
   "cell_type": "code",
   "execution_count": 2,
   "id": "132bbd8d-3b89-4b0c-932e-5fb97d66ce7a",
   "metadata": {
    "tags": []
   },
   "outputs": [],
   "source": [
    "secondary = pd.read_csv('../../../processed-data/gene-risk-LR-analysis/02-SCZ_LRs/SCZ_LorR_interactions.csv')\n",
    "liana = pd.read_csv('../../../processed-data/gene-risk-LR-analysis/02-SCZ_LRs/TableS3_liana_lr.csv')"
   ]
  },
  {
   "cell_type": "code",
   "execution_count": 3,
   "id": "fec8d576-40c8-4957-8c3d-424d3f523cd4",
   "metadata": {
    "tags": []
   },
   "outputs": [],
   "source": [
    "ligands = []\n",
    "receptors = []\n",
    "for n in range(0,np.shape(secondary)[0]):\n",
    "    if ((liana['ligand.complex']+liana['receptor.complex']).eq((secondary['genesymbol_intercell_source']+secondary['genesymbol_intercell_target']).loc[n]).sum()>0):\n",
    "        ligands.append(secondary['genesymbol_intercell_source'].loc[n])\n",
    "        receptors.append(secondary['genesymbol_intercell_target'].loc[n])\n",
    "intersect = pd.DataFrame(np.concatenate((np.asarray(ligands).reshape(1,-1), np.asarray(receptors).reshape(1,-1)), axis = 0).T, columns = ['Receptors', 'Ligands'])\n",
    "intersect.to_csv('../../../processed-data/gene-risk-LR-analysis/02-SCZ_LRs/SCZ_LorR_intersect_LIANA.csv')"
   ]
  },
  {
   "cell_type": "code",
   "execution_count": 4,
   "id": "6e98540d-d7cd-4a54-8ae2-80e6ef28b485",
   "metadata": {
    "tags": []
   },
   "outputs": [],
   "source": [
    "db = op.interactions.import_intercell_network(transmitter_params = {\"categories\":\"ligand\"}, receiver_params = {\"categories\": \"receptor\"})\n",
    "db = db[np.logical_not(db['genesymbol_intercell_source'].str.startswith('HLA'))]\n",
    "db = db[np.logical_not(db['genesymbol_intercell_target'].str.startswith('HLA'))]"
   ]
  },
  {
   "cell_type": "code",
   "execution_count": 5,
   "id": "74c077e4-02c8-4de1-ad2c-4b96dfa93d9c",
   "metadata": {
    "tags": []
   },
   "outputs": [],
   "source": [
    "tgts = pd.read_csv('../../../processed-data/gene-risk-LR-analysis/00-OpenTargets_SCZ_risk_genes/SCZ_risk_genes_01thr_hot1.csv')\n"
   ]
  },
  {
   "cell_type": "code",
   "execution_count": 6,
   "id": "616365a2-b9a8-490e-beb9-c2990c2e2e1c",
   "metadata": {
    "tags": []
   },
   "outputs": [],
   "source": [
    "ligand_SCZ = []\n",
    "receptor_SCZ = []\n",
    "for m in range(0,np.shape(intersect)[0]):\n",
    "    if (m==0):\n",
    "        op_LRs = pd.DataFrame(db[(db['genesymbol_intercell_source']==intersect.iloc[m][0]) & (db['genesymbol_intercell_target']==intersect.iloc[m][1])]).reset_index()\n",
    "        if intersect.iloc[m][0] in list(tgts['genes']):\n",
    "            ligand_SCZ.append(True)\n",
    "        else:\n",
    "            ligand_SCZ.append(False)\n",
    "        if intersect.iloc[m][1] in list(tgts['genes']):\n",
    "            receptor_SCZ.append(True)\n",
    "        else:\n",
    "            receptor_SCZ.append(False)\n",
    "    else:\n",
    "        new = pd.DataFrame(db[(db['genesymbol_intercell_source']==intersect.iloc[m][0]) & (db['genesymbol_intercell_target']==intersect.iloc[m][1])]).reset_index()\n",
    "        op_LRs = pd.concat([op_LRs,new], axis = 0)\n",
    "        if intersect.iloc[m][0] in list(tgts['genes']):\n",
    "            ligand_SCZ.append(True)\n",
    "        else:\n",
    "            ligand_SCZ.append(False)\n",
    "        if intersect.iloc[m][1] in list(tgts['genes']):\n",
    "            receptor_SCZ.append(True)\n",
    "        else:\n",
    "            receptor_SCZ.append(False)\n",
    "op_LRs['receptor_SCZ_risk'] = receptor_SCZ\n",
    "op_LRs['ligand_SCZ_risk'] = ligand_SCZ"
   ]
  },
  {
   "cell_type": "code",
   "execution_count": 9,
   "id": "ca9de197-e668-4b77-b1b6-465e8800d1fd",
   "metadata": {
    "tags": []
   },
   "outputs": [],
   "source": [
    "op_LRs[['genesymbol_intercell_source','genesymbol_intercell_target','receptor_SCZ_risk',\n",
    "       'ligand_SCZ_risk',\n",
    "       'index', 'source', 'target', 'is_stimulation', 'is_inhibition',\n",
    "       'consensus_direction', 'consensus_stimulation', 'consensus_inhibition',\n",
    "       'curation_effort', 'references', 'sources', 'type',\n",
    "       'references_stripped', 'n_references', 'n_sources', 'n_primary_sources',\n",
    "       'category_intercell_source', 'parent_intercell_source',\n",
    "       'database_intercell_source', 'scope_intercell_source',\n",
    "       'aspect_intercell_source', 'category_source_intercell_source',\n",
    "       'uniprot_intercell_source', \n",
    "       'entity_type_intercell_source', 'consensus_score_intercell_source',\n",
    "       'transmitter_intercell_source', 'receiver_intercell_source',\n",
    "       'secreted_intercell_source',\n",
    "       'plasma_membrane_transmembrane_intercell_source',\n",
    "       'plasma_membrane_peripheral_intercell_source',\n",
    "       'category_intercell_target', 'parent_intercell_target',\n",
    "       'database_intercell_target', 'scope_intercell_target',\n",
    "       'aspect_intercell_target', 'category_source_intercell_target',\n",
    "       'uniprot_intercell_target', \n",
    "       'entity_type_intercell_target', 'consensus_score_intercell_target',\n",
    "       'transmitter_intercell_target', 'receiver_intercell_target',\n",
    "       'secreted_intercell_target',\n",
    "       'plasma_membrane_transmembrane_intercell_target',\n",
    "       'plasma_membrane_peripheral_intercell_target']].drop(columns = 'index').to_csv('../../../processed-data/gene-risk-LR-analysis/02-SCZ_LRs/SCZ_LorR_intersect_LIANA_op_annotation.csv', index = False)"
   ]
  },
  {
   "cell_type": "code",
   "execution_count": null,
   "id": "3d9d137d-c606-47f7-ae64-801203f189b1",
   "metadata": {},
   "outputs": [],
   "source": []
  }
 ],
 "metadata": {
  "kernelspec": {
   "display_name": "panpipes",
   "language": "python",
   "name": "panpipes"
  },
  "language_info": {
   "codemirror_mode": {
    "name": "ipython",
    "version": 3
   },
   "file_extension": ".py",
   "mimetype": "text/x-python",
   "name": "python",
   "nbconvert_exporter": "python",
   "pygments_lexer": "ipython3",
   "version": "3.8.13"
  }
 },
 "nbformat": 4,
 "nbformat_minor": 5
}
