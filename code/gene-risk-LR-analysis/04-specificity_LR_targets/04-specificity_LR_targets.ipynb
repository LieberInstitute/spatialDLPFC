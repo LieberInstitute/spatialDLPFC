{
 "cells": [
  {
   "cell_type": "code",
   "execution_count": 1,
   "id": "1979cf8d-4218-4c8f-8ab0-9ee809971faf",
   "metadata": {},
   "outputs": [],
   "source": [
    "###--------------------------------------------LOAD LIBRARIES\n",
    "\n",
    "import numpy as np\n",
    "import pandas as pd\n",
    "import scanpy as sc\n",
    "import tspex\n",
    "import seaborn as sns\n",
    "from matplotlib.pyplot import figure\n",
    "import matplotlib.pyplot as plt\n",
    "sns.set(style = \"whitegrid\", font_scale=1)"
   ]
  },
  {
   "cell_type": "code",
   "execution_count": null,
   "id": "377fce4f-e31e-43e6-9440-7f4076ed06db",
   "metadata": {},
   "outputs": [
    {
     "name": "stderr",
     "output_type": "stream",
     "text": [
      "/camp/lab/gandhis/home/users/grantpm/.conda/envs/panpipes/lib/python3.8/site-packages/anndata/_core/anndata.py:1830: UserWarning: Variable names are not unique. To make them unique, call `.var_names_make_unique`.\n",
      "  utils.warn_names_duplicates(\"var\")\n"
     ]
    }
   ],
   "source": [
    "###--------------------------------------------LOAD DATA\n",
    "\n",
    "adata = sc.read_h5ad(\"../../../processed-data/gene-risk-LR-analysis/04-specificity_LR_targets/sce.h5ad\")\n",
    "adata = adata[adata.obs['cellType_broad_hc']!='drop']\n",
    "adata.X = adata.X.astype(float)\n",
    "adata.layers['logcounts'] = adata.layers['logcounts'].astype(float)\n",
    "adata.obsm['tsne'] = adata.obsm['TSNE'].astype(float)"
   ]
  },
  {
   "cell_type": "code",
   "execution_count": null,
   "id": "08a13843-ce44-4b2e-85bc-ac477e108106",
   "metadata": {},
   "outputs": [],
   "source": [
    "###--------------------------------------------VISUALISE GENES OF INTEREST\n",
    "\n",
    "df = pd.read_csv('../../../processed-data/gene-risk-LR-analysis/02-SCZ_LRs/SCZ_top_interactions.csv')\n",
    "unique = list(np.unique(list(df['genesymbol_intercell_source'])+list(df['genesymbol_intercell_target'])))"
   ]
  },
  {
   "cell_type": "code",
   "execution_count": null,
   "id": "e3763088-55f6-418a-83a8-16d39f92e827",
   "metadata": {},
   "outputs": [],
   "source": [
    "sc.pl.tsne(adata, layer = 'logcounts', color = unique)"
   ]
  },
  {
   "cell_type": "code",
   "execution_count": null,
   "id": "e7263667-29b7-465c-92e8-2fb6f6f9f02c",
   "metadata": {},
   "outputs": [],
   "source": [
    "adata.var_names_make_unique(join='.')"
   ]
  },
  {
   "cell_type": "code",
   "execution_count": null,
   "id": "fda1d463-eb32-41b6-aea2-73740624197e",
   "metadata": {},
   "outputs": [],
   "source": [
    "df = pd.DataFrame((adata.X.astype(float)).toarray().T, index = adata.var_names, columns = adata.obs['cellType_layer'])\n",
    "\n",
    "df_med = df.groupby(by=['cellType_layer'], axis=1).median().loc[unique]"
   ]
  },
  {
   "cell_type": "code",
   "execution_count": null,
   "id": "020a84d5-37b1-47d5-978e-ff63c30d9a05",
   "metadata": {},
   "outputs": [],
   "source": [
    "###--------------------------------------------RUN ANALYSIS\n",
    "\n",
    "sns.set(font_scale=0.6)\n",
    "tso = tspex.TissueSpecificity(df_med, 'tau', log=False)\n",
    "sns.heatmap(tso.tissue_specificity.to_frame().sort_values(by=0, ascending = False), annot = True) \n",
    "plt.savefig('../../../plots/gene-risk-LR-analysis/04-specificity_LR_targets/heatmap_tau_allnuclei.pdf', dpi = 300)\n",
    "plt.show()\n",
    "\n",
    "tso.tissue_specificity.to_frame().to_csv('../../../processed-data/gene-risk-LR-analysis/04-specificity_LR_targets/tau_targets_allnuclei.csv')\n",
    "\n",
    "sns.set(font_scale=1)\n",
    "spm = tspex.TissueSpecificity(df_med, 'spm', log = False)\n",
    "plt.figure(figsize=(30,10))\n",
    "sns.clustermap(spm.tissue_specificity, cmap='viridis', yticklabels = True, col_cluster = False)\n",
    "plt.savefig('../../../plots/gene-risk-LR-analysis/04-specificity_LR_targets/clustermap_spm_allnuclei.pdf', dpi = 300)\n",
    "plt.show()\n",
    "\n",
    "spm.tissue_specificity.to_csv('../../../processed-data/gene-risk-LR-analysis/04-specificity_LR_targets/spm_targets_allnuclei.csv')"
   ]
  },
  {
   "cell_type": "code",
   "execution_count": null,
   "id": "8e09a2c7-5f20-49ff-9d71-f533dac5eda1",
   "metadata": {},
   "outputs": [],
   "source": []
  }
 ],
 "metadata": {
  "kernelspec": {
   "display_name": "panpipes",
   "language": "python",
   "name": "panpipes"
  },
  "language_info": {
   "codemirror_mode": {
    "name": "ipython",
    "version": 3
   },
   "file_extension": ".py",
   "mimetype": "text/x-python",
   "name": "python",
   "nbconvert_exporter": "python",
   "pygments_lexer": "ipython3",
   "version": "3.8.13"
  }
 },
 "nbformat": 4,
 "nbformat_minor": 5
}
