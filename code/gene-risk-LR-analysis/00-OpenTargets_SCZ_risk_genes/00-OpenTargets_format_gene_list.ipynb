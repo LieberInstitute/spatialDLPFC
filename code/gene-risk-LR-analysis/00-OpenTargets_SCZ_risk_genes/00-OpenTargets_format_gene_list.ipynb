{
 "cells": [
  {
   "cell_type": "code",
   "execution_count": 1,
   "id": "92548e38-9f73-4f5a-ae57-f6916289793c",
   "metadata": {},
   "outputs": [],
   "source": [
    "###--------------------------------------------LOAD LIBRARIES\n",
    "import numpy as np\n",
    "import pandas as pd\n",
    "from sklearn.preprocessing import OneHotEncoder"
   ]
  },
  {
   "cell_type": "code",
   "execution_count": 2,
   "id": "1153ef6f-ee30-44cf-98d8-5557d0eef201",
   "metadata": {},
   "outputs": [
    {
     "name": "stdout",
     "output_type": "stream",
     "text": [
      "         Schizophrenia\n",
      "genes                 \n",
      "DRD2               1.0\n",
      "DRD3               1.0\n",
      "ESR2               1.0\n",
      "GRIN2A             1.0\n",
      "RTN4R              1.0\n",
      "...                ...\n",
      "VPS37B             1.0\n",
      "CEBPZOS            1.0\n",
      "NRIP2              1.0\n",
      "WDR17              1.0\n",
      "COX14              1.0\n",
      "\n",
      "[972 rows x 1 columns]\n"
     ]
    }
   ],
   "source": [
    "###--------------------------------------------LOAD DATA\n",
    "#Gene list from OpenTargets platform, downloaded on 12-08-2022\n",
    "# Filtered to only includes genes with positive genetic association\n",
    "\n",
    "dis = pd.read_csv('../../../raw-data/gene-risk-LR-analysis/Schizophrenia_MONDO_0005090-associated-diseases.tsv', delimiter = '\\t')    \n",
    "\n",
    "disease = 'Schizophrenia'\n",
    "\n",
    "###--------------------------------------------FORMAT AND FILTER FOR GENETIC ASSOCIATION > 0.1\n",
    "dis = dis[['symbol', 'objectObject']]\n",
    "dis.rename(columns={'objectObject': 'genetic_association'}, inplace = True)\n",
    "dis = dis[dis['genetic_association']>0.1]\n",
    "if np.shape(dis)[0]>10:\n",
    "    genetic_association = dis.set_index('symbol')\n",
    "    genetic_association.to_csv('../../../processed-data/gene-risk-LR-analysis/00-OpenTargets_SCZ_risk_genes/SCZ_risk_genes_01thr.csv')\n",
    "    \n",
    "    dis['score']=int(1)\n",
    "    dis = dis.drop(columns=['genetic_association']).set_index(['symbol'])\n",
    "    #creating instance of one-hot-encoder\n",
    "    encoder = OneHotEncoder(handle_unknown='ignore')\n",
    "    encoder_df = pd.DataFrame(encoder.fit_transform(dis).toarray())\n",
    "    encoder_df[disease] = encoder_df[0]\n",
    "    encoder_df = encoder_df.drop(columns=[0])\n",
    "    encoder_df['genes'] = list(dis.index)\n",
    "    encoder_df.set_index('genes', inplace=True)\n",
    "    encoder_df.to_csv('../../../processed-data/gene-risk-LR-analysis/00-OpenTargets_SCZ_risk_genes/SCZ_risk_genes_01thr_hot1.csv')\n",
    "    print(encoder_df)\n",
    "else:\n",
    "    print(\"Disease doesn't have enough genes with high genetic scores.\")"
   ]
  },
  {
   "cell_type": "code",
   "execution_count": null,
   "id": "7241e1b6-5de9-49b2-b698-de86ddb721d5",
   "metadata": {},
   "outputs": [],
   "source": []
  }
 ],
 "metadata": {
  "kernelspec": {
   "display_name": "panpipes",
   "language": "python",
   "name": "panpipes"
  },
  "language_info": {
   "codemirror_mode": {
    "name": "ipython",
    "version": 3
   },
   "file_extension": ".py",
   "mimetype": "text/x-python",
   "name": "python",
   "nbconvert_exporter": "python",
   "pygments_lexer": "ipython3",
   "version": "3.8.13"
  }
 },
 "nbformat": 4,
 "nbformat_minor": 5
}
