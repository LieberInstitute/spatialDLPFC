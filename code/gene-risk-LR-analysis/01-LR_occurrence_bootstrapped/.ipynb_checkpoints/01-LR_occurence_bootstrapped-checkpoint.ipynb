{
 "cells": [
  {
   "cell_type": "code",
   "execution_count": 1,
   "id": "5689cad1-58e6-4c56-9568-a0dd22e2ba77",
   "metadata": {},
   "outputs": [],
   "source": [
    "###--------------------------------------------LOAD LIBRARIES\n",
    "\n",
    "import numpy as np\n",
    "import pandas as pd\n",
    "import mygene\n",
    "import omnipath as op\n",
    "import seaborn as sns\n",
    "import matplotlib.pyplot as plt"
   ]
  },
  {
   "cell_type": "code",
   "execution_count": 12,
   "id": "f71d0de1-3d69-4962-84fe-ec3b27103059",
   "metadata": {},
   "outputs": [],
   "source": [
    "###--------------------------------------------DEFINE FUNCTIONS\n",
    "def find_hits(target, db):                                                                      #Function for identifying genes that are targets or receptors (tgts) within a given database (db)\n",
    "    hits = db['genesymbol_intercell_source'].isin(list(target.index))                           #Out of targets, which act as sources (aka: ligands)? \n",
    "    hits = hits.to_frame()\n",
    "    hits['gene'] = list(db['genesymbol_intercell_source'])\n",
    "    hits = hits[hits['genesymbol_intercell_source']==True]\n",
    "    \n",
    "    if (len(target.index.unique())>0):\n",
    "        percSrc = len(hits['gene'].unique())/len(target.index.unique())*100\n",
    "    else:\n",
    "        percSrc = 0\n",
    "\n",
    "    final_s = pd.merge(hits, db[['transmitter_intercell_source', 'receiver_intercell_source',\n",
    "        'secreted_intercell_source',\n",
    "        'plasma_membrane_transmembrane_intercell_source',\n",
    "        'plasma_membrane_peripheral_intercell_source']], how=\"inner\", left_index = True, right_index = True)\n",
    "    final_s['source']=1\n",
    "    final_s[['gene', 'source']]\n",
    "\n",
    "    hits = db['genesymbol_intercell_target'].isin(list(target.index))\n",
    "    hits = hits.to_frame()\n",
    "    hits['gene'] = list(db['genesymbol_intercell_target'])\n",
    "    hits = hits[hits['genesymbol_intercell_target']==True]\n",
    "    \n",
    "    if (len(target.index.unique())>0):\n",
    "        percTgt = len(hits['gene'].unique())/len(target.index.unique())*100\n",
    "    else:\n",
    "        percTgt=0\n",
    "\n",
    "    final_t = pd.merge(hits, db[['transmitter_intercell_target', 'receiver_intercell_target',\n",
    "        'secreted_intercell_target',\n",
    "        'plasma_membrane_transmembrane_intercell_target',\n",
    "        'plasma_membrane_peripheral_intercell_target']], how=\"inner\", left_index = True, right_index = True)\n",
    "    final_t['target']=2\n",
    "    final_t[['gene', 'target']]\n",
    "    \n",
    "    target['Empty'] = 0\n",
    "    alltgt = target['Empty'].reset_index()\n",
    "    alltgt.rename(columns = {'index':'gene'}, inplace = True)\n",
    "    summary_LR = pd.merge(final_s[['gene', 'source','secreted_intercell_source',\n",
    "       'plasma_membrane_transmembrane_intercell_source',\n",
    "       'plasma_membrane_peripheral_intercell_source']], final_t[['gene', 'target', 'secreted_intercell_target',\n",
    "       'plasma_membrane_transmembrane_intercell_target',\n",
    "       'plasma_membrane_peripheral_intercell_target']], how=\"outer\", on=['gene','gene']).fillna(0)\n",
    "    summary_LR = pd.merge(summary_LR, alltgt, how=\"outer\", left_on = ['gene'], right_on = ['genes']).fillna(0)\n",
    "    summary_LR['source+target']=summary_LR['source']+summary_LR['target']\n",
    "    summary_LR['source+target'].astype(\"category\")\n",
    "    summary_LR['source+target'].replace({\n",
    "    0.0: 'None', \n",
    "    1.0: 'Source', \n",
    "    2.0: 'Target', \n",
    "    3.0: 'Source+Target'}, inplace = True)\n",
    "    \n",
    "    return(final_s, percSrc, final_t, percTgt, summary_LR.drop_duplicates(subset = [\"gene\"]))           #Return final sources, targets, corresponding percentegages and a \n",
    "                                                                                                        #summary ligand-receptor table including information of molecule type\n",
    "                                                                                                        \n",
    "\n",
    "def typeOfMolecule(summary_LR, disease):                                                                # Function for identifying the types of receptors (solluble, membrane expressed) flagged in find_hits function\n",
    "    summary_LR[['secreted_intercell_source',\n",
    "              'plasma_membrane_transmembrane_intercell_source',\n",
    "              'plasma_membrane_peripheral_intercell_source',\n",
    "              'secreted_intercell_target',\n",
    "              'plasma_membrane_transmembrane_intercell_target',\n",
    "              'plasma_membrane_peripheral_intercell_target']] = summary_LR[['secreted_intercell_source',\n",
    "              'plasma_membrane_transmembrane_intercell_source',\n",
    "              'plasma_membrane_peripheral_intercell_source',\n",
    "              'secreted_intercell_target',\n",
    "              'plasma_membrane_transmembrane_intercell_target',\n",
    "              'plasma_membrane_peripheral_intercell_target']].astype(int)\n",
    "\n",
    "    source_only = summary_LR[summary_LR['source+target']=='Source']\n",
    "    source_tp = np.asarray([np.shape(source_only[source_only['secreted_intercell_source']==1])[0], \n",
    "              np.shape(source_only[source_only['plasma_membrane_transmembrane_intercell_source']==1])[0], \n",
    "              np.shape(source_only[source_only['plasma_membrane_peripheral_intercell_source']==1])[0]]).reshape(-1,1)\n",
    "\n",
    "    target_only = summary_LR[summary_LR['source+target']=='Target']\n",
    "    target_tp = np.asarray([\n",
    "              np.shape(target_only[target_only['secreted_intercell_target']==1])[0], \n",
    "              np.shape(target_only[target_only['plasma_membrane_transmembrane_intercell_target']==1])[0], \n",
    "              np.shape(target_only[target_only['plasma_membrane_peripheral_intercell_target']==1])[0]]).reshape(-1,1)\n",
    "\n",
    "    source_and_target = summary_LR[summary_LR['source+target']=='Source+Target']\n",
    "    source_and_target_tp = np.asarray([np.shape(source_and_target[source_and_target['secreted_intercell_source']==1])[0], \n",
    "              np.shape(source_and_target[source_and_target['plasma_membrane_transmembrane_intercell_source']==1])[0], \n",
    "              np.shape(source_and_target[source_and_target['plasma_membrane_peripheral_intercell_source']==1])[0]]).reshape(-1,1)\n",
    "\n",
    "\n",
    "    typemol = pd.DataFrame(np.concatenate((source_tp, target_tp, source_and_target_tp), axis = 1), \n",
    "                     index = ['source', 'target', 'source+target'], \n",
    "                     columns = ['secreted', 'transmembrane', 'peripheral'])\n",
    "\n",
    "    typemol.transpose().plot(kind=\"bar\", stacked=True, cmap = 'Dark2')\n",
    "    plt.title(\"Types of Ligands and Receptors in %s\" % disease)\n",
    "    plt.savefig(\"../../../plots/gene-risk-LR-analysis/01-LR_occurrence_bootstrapped/Ls_Rs_in_%s.png\" % disease, dpi = 300, bbox_inches='tight')\n",
    "    plt.show()\n",
    "\n",
    "    return(typemol)\n",
    "\n",
    "def topocurring(targets, hits):                                                                 #Function for identifying top occuring genes in a set of groups (e.g.: diseases, databases)\n",
    "    top10S = targets.loc[list(hits['gene'].unique())].sum(axis = 1).sort_values(ascending = False).to_frame(name = 'Occurances')\n",
    "    top10S['Diseases'] = 'A'\n",
    "    for n in range (0, len(list(top10S.index))):\n",
    "        info = targets.loc[top10S.index[n]]\n",
    "        info = info[info>0].to_frame()\n",
    "        l = []\n",
    "        for i in range (0,len(info.index)):\n",
    "            l.append(info.index[i].split(\"_\")[0])\n",
    "        top10S['Diseases'][n] = \", \".join(np.unique(l))\n",
    "    return top10S\n",
    "\n",
    "def bootstrap_genes(n, iter, genelist, db):\n",
    "    import random\n",
    "    import seaborn as sns\n",
    "    import matplotlib.pyplot as plt\n",
    "    src = []\n",
    "    tgt = []\n",
    "\n",
    "    for i in range (0,iter):\n",
    "        rand = random.sample(range(0,len(genelist)), n)                                         # Generate n random numbers for gene selection\n",
    "        source, percSrc, targets, percTgt, sum = find_hits(pd.DataFrame(genelist.iloc[rand]).set_index('genes'), db)      # Select genes\n",
    "        src.append(percSrc)\n",
    "        tgt.append(percTgt)\n",
    "\n",
    "    sns.histplot(data = src, bins = 20)\n",
    "    plt.show()\n",
    "\n",
    "    sns.histplot(data = tgt, bins = 20)\n",
    "    plt.show\n",
    "    return src, tgt"
   ]
  },
  {
   "cell_type": "code",
   "execution_count": 3,
   "id": "09bc96fc-61d4-4a7b-9e6a-24040b85ff9e",
   "metadata": {},
   "outputs": [
    {
     "name": "stdout",
     "output_type": "stream",
     "text": [
      "querying 1-1000...done.\n",
      "querying 1001-2000...done.\n",
      "querying 2001-3000...done.\n",
      "querying 3001-4000...done.\n",
      "querying 4001-5000...done.\n",
      "querying 5001-6000...done.\n",
      "querying 6001-7000...done.\n",
      "querying 7001-8000...done.\n",
      "querying 8001-9000...done.\n",
      "querying 9001-10000...done.\n",
      "querying 10001-11000...done.\n",
      "querying 11001-12000...done.\n",
      "querying 12001-13000...done.\n",
      "querying 13001-14000...done.\n",
      "querying 14001-15000...done.\n",
      "querying 15001-16000...done.\n",
      "querying 16001-17000...done.\n",
      "querying 17001-18000...done.\n",
      "querying 18001-19000...done.\n",
      "querying 19001-20000...done.\n",
      "querying 20001-21000...done.\n",
      "querying 21001-22000...done.\n",
      "querying 22001-23000...done.\n",
      "querying 23001-24000...done.\n",
      "querying 24001-25000...done.\n",
      "querying 25001-26000...done.\n",
      "querying 26001-27000...done.\n",
      "querying 27001-28000...done.\n",
      "querying 28001-29000...done.\n",
      "querying 29001-30000...done.\n",
      "querying 30001-31000...done.\n",
      "querying 31001-32000...done.\n",
      "querying 32001-32767...done.\n",
      "Finished.\n",
      "4 input query terms found dup hits:\n",
      "\t[('ENSG00000229425', 2), ('ENSG00000249738', 2), ('ENSG00000260788', 2), ('ENSG00000268674', 4)]\n",
      "1607 input query terms found no hit:\n",
      "\t['ENSG00000005955', 'ENSG00000006074', 'ENSG00000006075', 'ENSG00000006114', 'ENSG00000017373', 'ENS\n",
      "Pass \"returnall=True\" to return complete lists of duplicate or missing query terms.\n"
     ]
    }
   ],
   "source": [
    "###--------------------------------------------LOAD DATA\n",
    "df = pd.read_csv('../../../processed-data/gene-risk-LR-analysis/00-OpenTargets_SCZ_risk_genes/SCZ_risk_genes_01thr_hot1.csv', index_col = 0)\n",
    "\n",
    "# import gtex expression data\n",
    "gtex_link = 'https://storage.googleapis.com/gtex_analysis_v7/rna_seq_data/GTEx_Analysis_2016-01-15_v7_RNASeQCv1.1.8_gene_median_tpm.gct.gz'\n",
    "exp = pd.read_csv(gtex_link, sep='\\t', index_col='gene_id', skiprows=2)\n",
    "exp_cns = exp.loc[:, ['Brain - Anterior cingulate cortex (BA24)',\n",
    "       'Brain - Caudate (basal ganglia)', 'Brain - Cerebellar Hemisphere',\n",
    "       'Brain - Cerebellum', 'Brain - Cortex', 'Brain - Frontal Cortex (BA9)',\n",
    "       'Brain - Hippocampus', 'Brain - Hypothalamus',\n",
    "       'Brain - Nucleus accumbens (basal ganglia)',\n",
    "       'Brain - Putamen (basal ganglia)', 'Brain - Spinal cord (cervical c-1)',\n",
    "       'Brain - Substantia nigra']]\n",
    "exp_cns = exp_cns.loc[(exp_cns > 0).any(axis=1)]\n",
    "\n",
    "# convert gtex gene names from ENSEMBL to gene symbols\n",
    "mg = mygene.MyGeneInfo()\n",
    "ensembl_gtex = list(np.unique(pd.DataFrame(list(exp_cns.index.str.split('.')))[0]))\n",
    "symbols_gtex = mg.querymany(ensembl_gtex, scopes='ensembl.gene', fields='symbol', species='human')\n",
    "symbols_gtex = pd.DataFrame(symbols_gtex)['symbol']\n",
    "\n",
    "# import omnipath db\n",
    "db = op.interactions.import_intercell_network(transmitter_params = {\"categories\":\"ligand\"}, receiver_params = {\"categories\": \"receptor\"})"
   ]
  },
  {
   "cell_type": "code",
   "execution_count": 13,
   "id": "6e31f95e-4a9d-44a4-ab7d-e69d7a0d4c80",
   "metadata": {},
   "outputs": [
    {
     "data": {
      "image/png": "[encoded data removed]",
      "text/plain": [
       "<Figure size 432x288 with 1 Axes>"
      ]
     },
     "metadata": {
      "needs_background": "light"
     },
     "output_type": "display_data"
    },
    {
     "data": {
      "image/png": "[encoded data removed]",
      "text/plain": [
       "<Figure size 432x288 with 1 Axes>"
      ]
     },
     "metadata": {
      "needs_background": "light"
     },
     "output_type": "display_data"
    }
   ],
   "source": [
    "###--------------------------------------------BOOTSTRAPPING\n",
    "\n",
    "src, tgt = bootstrap_genes(np.shape(df)[0], 10000, symbols_gtex.rename('genes'), db)"
   ]
  },
  {
   "cell_type": "code",
   "execution_count": 14,
   "id": "5d411535-2ab4-4f70-8353-5d38ecc57013",
   "metadata": {},
   "outputs": [
    {
     "name": "stderr",
     "output_type": "stream",
     "text": [
      "/tmp/slurm_46711083/ipykernel_152600/1093087256.py:14: MatplotlibDeprecationWarning: savefig() got unexpected keyword argument \"bbox\" which is no longer supported as of 3.3 and will become an error in 3.6\n",
      "  plt.savefig('../../../plots/gene-risk-LR-analysis/01-LR_occurrence_bootstrapped/bootstrapped_distribution_ligands_SCZ.pdf', dpi = 300, bbox = 'tight')\n"
     ]
    },
    {
     "data": {
      "image/png": "[encoded data removed]",
      "text/plain": [
       "<Figure size 432x288 with 1 Axes>"
      ]
     },
     "metadata": {
      "needs_background": "light"
     },
     "output_type": "display_data"
    },
    {
     "name": "stderr",
     "output_type": "stream",
     "text": [
      "/tmp/slurm_46711083/ipykernel_152600/1093087256.py:25: MatplotlibDeprecationWarning: savefig() got unexpected keyword argument \"bbox\" which is no longer supported as of 3.3 and will become an error in 3.6\n",
      "  plt.savefig('../../../plots/gene-risk-LR-analysis/01-LR_occurrence_bootstrapped/bootstrapped_distribution_receptors_SCZ.pdf', dpi = 300, bbox = 'tight')\n"
     ]
    },
    {
     "data": {
      "text/plain": [
       "<function matplotlib.pyplot.show(close=None, block=None)>"
      ]
     },
     "execution_count": 14,
     "metadata": {},
     "output_type": "execute_result"
    },
    {
     "data": {
      "image/png": "[encoded data removed]",
      "text/plain": [
       "<Figure size 432x288 with 1 Axes>"
      ]
     },
     "metadata": {
      "needs_background": "light"
     },
     "output_type": "display_data"
    }
   ],
   "source": [
    "###--------------------------------------------LRs IN SCZ RISK GENES\n",
    "\n",
    "#Calculate LR representation in SCZ risk genes\n",
    "all_source, pctsrc, all_targets, pcttgt, summary_LR = find_hits(df,db)\n",
    "\n",
    "g = sns.histplot(data = src, bins = 20, color = 'lightseagreen')\n",
    "quant_5, quant_95 = np.quantile(src, 0.025), np.quantile(src, 0.975)\n",
    "# [quantile, opacity, length]\n",
    "quants = [[quant_5, 0.6, 0.99], [quant_95, 0.6, 0.99]]\n",
    "for i in quants:\n",
    "    g.axvline(i[0], alpha = i[1], ymax = i[2], linestyle = \":\")\n",
    "g.axvline(pctsrc, color = 'orangered')\n",
    "plt.title('Distribution of ligands in bootstrapped genes')\n",
    "plt.savefig('../../../plots/gene-risk-LR-analysis/01-LR_occurrence_bootstrapped/bootstrapped_distribution_ligands_SCZ.pdf', dpi = 300, bbox = 'tight')\n",
    "plt.show()\n",
    "\n",
    "g = sns.histplot(data = tgt, bins = 20, color = 'lightseagreen')\n",
    "quant_5, quant_95 = np.quantile(tgt, 0.025), np.quantile(tgt, 0.975)\n",
    "# [quantile, opacity, length]\n",
    "quants = [[quant_5, 0.6, 0.99], [quant_95, 0.6, 0.99]]\n",
    "for i in quants:\n",
    "    g.axvline(i[0], alpha = i[1], ymax = i[2], linestyle = \":\")\n",
    "g.axvline(pcttgt, color = 'orangered')\n",
    "plt.title('Distribution of receptors in bootstrapped genes')\n",
    "plt.savefig('../../../plots/gene-risk-LR-analysis/01-LR_occurrence_bootstrapped/bootstrapped_distribution_receptors_SCZ.pdf', dpi = 300, bbox = 'tight')\n",
    "plt.show"
   ]
  },
  {
   "cell_type": "code",
   "execution_count": null,
   "id": "3c71a98a-770c-4bc3-9932-8d535ab58fe9",
   "metadata": {},
   "outputs": [],
   "source": []
  }
 ],
 "metadata": {
  "kernelspec": {
   "display_name": "panpipes",
   "language": "python",
   "name": "panpipes"
  },
  "language_info": {
   "codemirror_mode": {
    "name": "ipython",
    "version": 3
   },
   "file_extension": ".py",
   "mimetype": "text/x-python",
   "name": "python",
   "nbconvert_exporter": "python",
   "pygments_lexer": "ipython3",
   "version": "3.8.13"
  }
 },
 "nbformat": 4,
 "nbformat_minor": 5
}
